{
  "nbformat": 4,
  "nbformat_minor": 0,
  "metadata": {
    "colab": {
      "provenance": [],
      "gpuType": "T4"
    },
    "kernelspec": {
      "name": "python3",
      "display_name": "Python 3"
    },
    "language_info": {
      "name": "python"
    },
    "accelerator": "GPU"
  },
  "cells": [
    {
      "cell_type": "markdown",
      "source": [
        "# Neuromorphic Spiking Neural Network Classifier"
      ],
      "metadata": {
        "id": "eRJwll3Q5_y-"
      }
    },
    {
      "cell_type": "markdown",
      "source": [
        "This notebook explores neuromorphic computing using spiking neural networks (SNNs). We define a deep learning model that processes information using biologically inspired neurons. The network learns to classify images from the MNIST dataset by encoding them into spike trains using different encoding methods (rate, time, and delta coding).\n",
        "\n",
        "The notebook aims to compare effectivness of different encoding schemas for spking neural networks.\n",
        "\n",
        "This serves as a hands-on implementation of spiking neural networks for image classification, leveraging PyTorch and snnTorch. 🚀🔬"
      ],
      "metadata": {
        "id": "jNrrMQZS6FvN"
      }
    },
    {
      "cell_type": "markdown",
      "source": [
        "## Imports"
      ],
      "metadata": {
        "id": "gCazCGka6ji8"
      }
    },
    {
      "cell_type": "code",
      "source": [
        "!pip install snntorch"
      ],
      "metadata": {
        "colab": {
          "base_uri": "https://localhost:8080/"
        },
        "id": "etpUyUZ5fX_8",
        "outputId": "dfca5138-13cf-4dc9-c5c4-75c9fff7ce17"
      },
      "execution_count": 2,
      "outputs": [
        {
          "output_type": "stream",
          "name": "stdout",
          "text": [
            "Collecting snntorch\n",
            "  Downloading snntorch-0.9.4-py2.py3-none-any.whl.metadata (15 kB)\n",
            "Downloading snntorch-0.9.4-py2.py3-none-any.whl (125 kB)\n",
            "\u001b[?25l   \u001b[90m━━━━━━━━━━━━━━━━━━━━━━━━━━━━━━━━━━━━━━━━\u001b[0m \u001b[32m0.0/125.6 kB\u001b[0m \u001b[31m?\u001b[0m eta \u001b[36m-:--:--\u001b[0m\r\u001b[2K   \u001b[90m━━━━━━━━━━━━━━━━━━━━━━━━━━━━━━━━━━━━━━━━\u001b[0m \u001b[32m125.6/125.6 kB\u001b[0m \u001b[31m8.2 MB/s\u001b[0m eta \u001b[36m0:00:00\u001b[0m\n",
            "\u001b[?25hInstalling collected packages: snntorch\n",
            "Successfully installed snntorch-0.9.4\n"
          ]
        }
      ]
    },
    {
      "cell_type": "code",
      "source": [
        "import torch\n",
        "import torchvision\n",
        "import torchvision.transforms as transforms\n",
        "import matplotlib.pyplot as plt\n",
        "import numpy as np\n",
        "import torch\n",
        "import torch.nn as nn\n",
        "import torch.nn.functional as F\n",
        "import torch.optim as optim\n",
        "import snntorch as snn\n",
        "from snntorch import spikegen\n",
        "from snntorch import surrogate\n",
        "from snntorch.functional.acc import accuracy_rate\n",
        "from snntorch.functional.acc import accuracy_temporal\n",
        "from snntorch.functional.loss import SpikeTime\n",
        "from snntorch.functional.loss import ce_count_loss\n",
        "from snntorch.functional.loss import ce_temporal_loss\n",
        "import snntorch.spikeplot as splt\n",
        "from IPython.display import HTML"
      ],
      "metadata": {
        "id": "XaLLx-guQXEp"
      },
      "execution_count": 3,
      "outputs": []
    },
    {
      "cell_type": "markdown",
      "source": [
        "## Variables"
      ],
      "metadata": {
        "id": "DKY7701i6mH1"
      }
    },
    {
      "cell_type": "code",
      "source": [
        "BATCH_SIZE = 64\n",
        "IMAGE_REPITIONS = 4\n",
        "EPOCHS = 30\n",
        "SPIKE_GRAD = surrogate.fast_sigmoid(slope=25) #\n",
        "BETA = 0.5\n",
        "NUM_STEPS = 10\n",
        "GAIN = 0.5\n",
        "THRESHOLD_LATENCY = 1e-4\n",
        "TAU = 0.9\n",
        "THRESHOLD_DELTA = 0.5\n",
        "NUM_CLASSES = 10"
      ],
      "metadata": {
        "id": "9Kc5qSRhQvJB"
      },
      "execution_count": 4,
      "outputs": []
    },
    {
      "cell_type": "markdown",
      "source": [
        "## Data"
      ],
      "metadata": {
        "id": "H0AyDlWx6nqE"
      }
    },
    {
      "cell_type": "code",
      "execution_count": 5,
      "metadata": {
        "colab": {
          "base_uri": "https://localhost:8080/"
        },
        "id": "KpdZCgxBPHuS",
        "outputId": "02655ce9-5303-4692-ac07-fbf962bdb956"
      },
      "outputs": [
        {
          "output_type": "stream",
          "name": "stdout",
          "text": [
            "Downloading http://yann.lecun.com/exdb/mnist/train-images-idx3-ubyte.gz\n",
            "Failed to download (trying next):\n",
            "HTTP Error 404: Not Found\n",
            "\n",
            "Downloading https://ossci-datasets.s3.amazonaws.com/mnist/train-images-idx3-ubyte.gz\n",
            "Downloading https://ossci-datasets.s3.amazonaws.com/mnist/train-images-idx3-ubyte.gz to ./data/MNIST/raw/train-images-idx3-ubyte.gz\n"
          ]
        },
        {
          "output_type": "stream",
          "name": "stderr",
          "text": [
            "100%|██████████| 9.91M/9.91M [00:00<00:00, 149MB/s]\n"
          ]
        },
        {
          "output_type": "stream",
          "name": "stdout",
          "text": [
            "Extracting ./data/MNIST/raw/train-images-idx3-ubyte.gz to ./data/MNIST/raw\n",
            "\n",
            "Downloading http://yann.lecun.com/exdb/mnist/train-labels-idx1-ubyte.gz\n",
            "Failed to download (trying next):\n",
            "HTTP Error 404: Not Found\n",
            "\n",
            "Downloading https://ossci-datasets.s3.amazonaws.com/mnist/train-labels-idx1-ubyte.gz\n",
            "Downloading https://ossci-datasets.s3.amazonaws.com/mnist/train-labels-idx1-ubyte.gz to ./data/MNIST/raw/train-labels-idx1-ubyte.gz\n"
          ]
        },
        {
          "output_type": "stream",
          "name": "stderr",
          "text": [
            "100%|██████████| 28.9k/28.9k [00:00<00:00, 49.7MB/s]\n"
          ]
        },
        {
          "output_type": "stream",
          "name": "stdout",
          "text": [
            "Extracting ./data/MNIST/raw/train-labels-idx1-ubyte.gz to ./data/MNIST/raw\n",
            "\n",
            "Downloading http://yann.lecun.com/exdb/mnist/t10k-images-idx3-ubyte.gz\n",
            "Failed to download (trying next):\n",
            "HTTP Error 404: Not Found\n",
            "\n",
            "Downloading https://ossci-datasets.s3.amazonaws.com/mnist/t10k-images-idx3-ubyte.gz\n",
            "Downloading https://ossci-datasets.s3.amazonaws.com/mnist/t10k-images-idx3-ubyte.gz to ./data/MNIST/raw/t10k-images-idx3-ubyte.gz\n"
          ]
        },
        {
          "output_type": "stream",
          "name": "stderr",
          "text": [
            "100%|██████████| 1.65M/1.65M [00:00<00:00, 66.0MB/s]\n"
          ]
        },
        {
          "output_type": "stream",
          "name": "stdout",
          "text": [
            "Extracting ./data/MNIST/raw/t10k-images-idx3-ubyte.gz to ./data/MNIST/raw\n",
            "\n",
            "Downloading http://yann.lecun.com/exdb/mnist/t10k-labels-idx1-ubyte.gz\n",
            "Failed to download (trying next):\n",
            "HTTP Error 404: Not Found\n",
            "\n",
            "Downloading https://ossci-datasets.s3.amazonaws.com/mnist/t10k-labels-idx1-ubyte.gz\n",
            "Downloading https://ossci-datasets.s3.amazonaws.com/mnist/t10k-labels-idx1-ubyte.gz to ./data/MNIST/raw/t10k-labels-idx1-ubyte.gz\n"
          ]
        },
        {
          "output_type": "stream",
          "name": "stderr",
          "text": [
            "100%|██████████| 4.54k/4.54k [00:00<00:00, 9.27MB/s]\n"
          ]
        },
        {
          "output_type": "stream",
          "name": "stdout",
          "text": [
            "Extracting ./data/MNIST/raw/t10k-labels-idx1-ubyte.gz to ./data/MNIST/raw\n",
            "\n",
            "Number of training images: 60000\n",
            "Number of test images: 10000\n"
          ]
        }
      ],
      "source": [
        "transform = transforms.Compose([\n",
        "    transforms.ToTensor(),\n",
        "])\n",
        "\n",
        "trainset = torchvision.datasets.MNIST(root='./data', train=True, download=True, transform=transform)\n",
        "trainloader = torch.utils.data.DataLoader(trainset, batch_size=BATCH_SIZE, shuffle=True)\n",
        "testset = torchvision.datasets.MNIST(root='./data', train=False, download=True, transform=transform)\n",
        "testloader = torch.utils.data.DataLoader(testset, batch_size=BATCH_SIZE, shuffle=False)\n",
        "\n",
        "\n",
        "print(f\"Number of training images: {len(trainset)}\")\n",
        "print(f\"Number of test images: {len(testset)}\")"
      ]
    },
    {
      "cell_type": "code",
      "source": [
        "def plot_example(imgs, class_labels, num_images=10):\n",
        "    '''\n",
        "    Plots a sample of images along with their corresponding class labels.\n",
        "\n",
        "    Parameters:\n",
        "    imgs (torch.Tensor): A tensor of images with shape (N, C, H, W).\n",
        "    class_labels (torch.Tensor): A tensor containing class labels corresponding to each image.\n",
        "    num_images (int, optional): The number of images to display. Defaults to 10.\n",
        "\n",
        "    Returns:\n",
        "    None\n",
        "    '''\n",
        "    imgs = imgs[:num_images]\n",
        "    class_labels = class_labels[:num_images]\n",
        "    imgs = imgs.numpy().transpose((0, 2, 3, 1))\n",
        "\n",
        "    fig, axes = plt.subplots(1, num_images, figsize=(15, 3))\n",
        "    for i in range(num_images):\n",
        "        axes[i].imshow(imgs[i], cmap='gray')\n",
        "        axes[i].axis(\"off\")\n",
        "        axes[i].set_title(class_labels[i].item(), fontsize=10)\n",
        "\n",
        "    plt.show()\n",
        "\n",
        "dataiter = iter(trainloader)\n",
        "images, labels = next(dataiter)\n",
        "plot_example(images, labels, num_images=8)"
      ],
      "metadata": {
        "colab": {
          "base_uri": "https://localhost:8080/",
          "height": 180
        },
        "id": "NSiOIptlQQLh",
        "outputId": "53a56c8d-155e-490a-89ba-b179df08f2bf"
      },
      "execution_count": 6,
      "outputs": [
        {
          "output_type": "display_data",
          "data": {
            "text/plain": [
              "<Figure size 1500x300 with 8 Axes>"
            ],
            "image/png": "[encoded data removed]"
          },
          "metadata": {}
        }
      ]
    },
    {
      "cell_type": "code",
      "source": [
        "dataiter = iter(testloader)\n",
        "images, labels = next(dataiter)\n",
        "plot_example(images, labels, num_images=8)"
      ],
      "metadata": {
        "colab": {
          "base_uri": "https://localhost:8080/",
          "height": 180
        },
        "id": "d07y_nzZQR6x",
        "outputId": "175ae560-93be-4124-835a-762807a2fe24"
      },
      "execution_count": 7,
      "outputs": [
        {
          "output_type": "display_data",
          "data": {
            "text/plain": [
              "<Figure size 1500x300 with 8 Axes>"
            ],
            "image/png": "[encoded data removed]"
          },
          "metadata": {}
        }
      ]
    },
    {
      "cell_type": "markdown",
      "source": [
        "## Rate encoding"
      ],
      "metadata": {
        "id": "8-D3KZJd7R9F"
      }
    },
    {
      "cell_type": "markdown",
      "source": [
        "Description via: https://snntorch.readthedocs.io/en/latest/index.html\n",
        "\n",
        "One example of converting input data into a rate code is as follows.\n",
        "Each normalised input feature $X_{ij}$ is used as the probability an event (spike) occurs at any given time step, returning a rate-coded value $R_{ij}$. This can be treated as a Bernoulli trial: $R_{ij}\\sim B(n,p)$, where the number of trials is $n=1$, and the probability of success (spiking) is $p=X_{ij}$. Explicitly, the probability a spike occurs is:\n",
        "\n",
        "$${\\rm P}(R_{ij}=1) = X_{ij} = 1 - {\\rm P}(R_{ij} = 0)$$\n",
        "\n",
        "For an MNIST image, this probability of spiking corresponds to the pixel value. A white pixel corresponds to a 100% probability of spiking, and a black pixel will never generate a spike."
      ],
      "metadata": {
        "id": "2rh_q3jo75J3"
      }
    },
    {
      "cell_type": "code",
      "source": [
        "spike_data = spikegen.rate(images, num_steps=NUM_STEPS, gain=GAIN)\n",
        "\n",
        "spike_data_sample2 = spike_data[:, 0, 0]\n",
        "fig, ax = plt.subplots()\n",
        "anim = splt.animator(spike_data_sample2, fig, ax)\n",
        "vid = HTML(anim.to_html5_video())\n",
        "plt.close(fig)\n",
        "vid"
      ],
      "metadata": {
        "colab": {
          "base_uri": "https://localhost:8080/",
          "height": 501
        },
        "id": "rfIsdG7dqbhm",
        "outputId": "d2f74b9a-2746-4300-f7b8-8fa3bf401e79"
      },
      "execution_count": 8,
      "outputs": [
        {
          "output_type": "execute_result",
          "data": {
            "text/plain": [
              "<IPython.core.display.HTML object>"
            ],
            "text/html": [
              "<video width=\"640\" height=\"480\" controls autoplay loop>\n",
              "  <source type=\"video/mp4\" src=\"data:video/mp4;base64,AAAAIGZ0eXBNNFYgAAACAE00ViBpc29taXNvMmF2YzEAAAAIZnJlZQAAHGFtZGF0AAACrgYF//+q\n",
              "3EXpvebZSLeWLNgg2SPu73gyNjQgLSBjb3JlIDE2MyByMzA2MCA1ZGI2YWE2IC0gSC4yNjQvTVBF\n",
              "Ry00IEFWQyBjb2RlYyAtIENvcHlsZWZ0IDIwMDMtMjAyMSAtIGh0dHA6Ly93d3cudmlkZW9sYW4u\n",
              "b3JnL3gyNjQuaHRtbCAtIG9wdGlvbnM6IGNhYmFjPTEgcmVmPTMgZGVibG9jaz0xOjA6MCBhbmFs\n",
              "eXNlPTB4MzoweDExMyBtZT1oZXggc3VibWU9NyBwc3k9MSBwc3lfcmQ9MS4wMDowLjAwIG1peGVk\n",
              "X3JlZj0xIG1lX3JhbmdlPTE2IGNocm9tYV9tZT0xIHRyZWxsaXM9MSA4eDhkY3Q9MSBjcW09MCBk\n",
              "ZWFkem9uZT0yMSwxMSBmYXN0X3Bza2lwPTEgY2hyb21hX3FwX29mZnNldD0tMiB0aHJlYWRzPTMg\n",
              "bG9va2FoZWFkX3RocmVhZHM9MSBzbGljZWRfdGhyZWFkcz0wIG5yPTAgZGVjaW1hdGU9MSBpbnRl\n",
              "cmxhY2VkPTAgYmx1cmF5X2NvbXBhdD0wIGNvbnN0cmFpbmVkX2ludHJhPTAgYmZyYW1lcz0zIGJf\n",
              "cHlyYW1pZD0yIGJfYWRhcHQ9MSBiX2JpYXM9MCBkaXJlY3Q9MSB3ZWlnaHRiPTEgb3Blbl9nb3A9\n",
              "MCB3ZWlnaHRwPTIga2V5aW50PTI1MCBrZXlpbnRfbWluPTI1IHNjZW5lY3V0PTQwIGludHJhX3Jl\n",
              "ZnJlc2g9MCByY19sb29rYWhlYWQ9NDAgcmM9Y3JmIG1idHJlZT0xIGNyZj0yMy4wIHFjb21wPTAu\n",
              "NjAgcXBtaW49MCBxcG1heD02OSBxcHN0ZXA9NCBpcF9yYXRpbz0xLjQwIGFxPTE6MS4wMACAAAAG\n",
              "6WWIhAA3//728P4FNjuY0JcRzeidMx+/Fbi6NDe9zgAAAwAAAwAAAwG5pYX/dnfziCAAAAMAdsAV\n",
              "r+/ghHykAbz5O9xVg5cnNkqw1UVI3VnVI+3uxivjadJe6lOVcQOJCFz5B4ExJ5OtflF95OhgT1o/\n",
              "LSd/unP8lYYv7HNAZDXY8mZoHAwh3H1CjAkQARJ2+ss/fr9iniyGB0jRn9VDHbc6QRkiWvxBiuGK\n",
              "yWOqzLrVzM7ldApohQTrL8bKAfcUWz7De0yagpkPmOMPeoT9JGts2MwvzmA6oINTLs6B9+kN1Zd0\n",
              "9dUWUmKat6feap34N7YHDpZdPYbFrg9oEjKyOGqj812FAvuVPcpYHhxuTIy3vtbnagLR3JnqIsTZ\n",
              "FAEkwvD8MIev6UU7bbieX4f2eyXhvhybU/DJQ848tbALw7sjE+pET4Q/X1Q7Sla/y2wb4mr9JmIK\n",
              "5f88q0b4dZvYCbxa2Fly0jbwlTjm/MuemnYk2S2TJ8WuTvmGkHAuxP/1mObA0r7vGrQqqFzh1c3k\n",
              "fBGFYD70steHX2LGrvnks51LqCVAGkG3aAMRGjXSL0oe9uyvlAU/Hks2BU0XGmBx1zraPo8y2UiX\n",
              "wb/gBstGBCgbtaGea5rDagmgkUGUWvlHCFNOfXdz02lNg3yuyeza1B0cvifvAHLc8lXnyLoBN0dH\n",
              "ceoJ61ZFRMaRFFX0JfpuJtg9PjtRCgc7TSrf/5xZ/ug89FCSLRflmDQa7pZ25NbWoOgdTsOtGTbB\n",
              "x7mU9jnSKHIj3hMqsksxKTBLwz0L+s0yQ0bU3NZCgPgX0/emCeVYJLhRvkcfguHJSEZHkBmvddaJ\n",
              "GBeRTcJWERUaAnJ5eJYr9xgkBDwwgUW6YGMbHWlUuSkoYQgODiIyPtqOq1c76HmfEW5utmdT4u9d\n",
              "18UxvYvEHYEsrn4009LAjMQIVtXQQOsenI9HqeHANT27Pvg7my0recRu0RP0vcQmwU+0/b+2nQVv\n",
              "wuh+bLsEYLdRgUMA60xpvgJANeqkD/q+9O0AeWmWJAYVV10yPS87GpjkysBhmP7g0WmP8S32l4NP\n",
              "jPEGBVeFP3lTNKD5gg9SZCCHjKJiA+5BD2cSQB3NVLBS8UkRF1o7lukP5YSGHj/xwPlYJcSkT9kz\n",
              "q7vQsoWvetvUIpbKSpCzR3qW53gytMtQAUVN1Mq1ne/FMDcBksaw7GJg5qV6fG16pPdSIb2oVMLv\n",
              "FmiLRq1Tx+t8Z7clgRC9I0T+/wvzo+ZwgdTgDffpQZJ+2KhiRE/2Fi9W5RPDch3meHN8aTkPmW2d\n",
              "zLBfe2WK65yVibxToz0jv2YQSVXj3NdAKjl5mg9bHMEgYp1g8mTd8OSF9s1NFrtdASH7zYpVhoB3\n",
              "oegotkYLrDwii227QpxZW8HmVSEz2+Q6/wjRwnha2yXBs5ZmvOIrbgLOt41G/MA+BrKDUycF7yZX\n",
              "t1rASTdV22T5frjPN+WV6sqk5jV7WdAuX3dg86P8Q5czW+N7WJbFGXxThDn0Nk8fGwfVyJJo6t2o\n",
              "+1qc59K21pZZCeEALJTkwGrr5Goq7uUENkDBqy85SMXdTfsaknhLT1ODxGTAN3bqf3iCVx3mXaI4\n",
              "wPdZ3d0lV9OeiyL69HWvG+J6MSTN2dxBA0a28KWWlNumpCDku1mgClHUMT8UOmzGKhBs/QGluRlP\n",
              "dUZhS+6cm+3EhFrt3tePlY1z45i7gDxgW3C012EdNr1bHWC8HTXupQkbUvFc//lxdqFWL7zAm2P2\n",
              "n4/7t8L4OczYmZ5jtMZSravWw94MfI10f4eGJjtTqGIhoWoVGJS+nK5FfnVl2txekxNnDTvzwdiM\n",
              "Ye/zVWcPtNAPq2CkqfcMfPT34hp+p4NSfJtww99h6wKw2dWPlEX/yQmnGKUyzhIWngsuT/EHSSgA\n",
              "AMEpR3h3SwoWEZoHxZDf5gc9BU+lKu+6W0TW7sVYoRcX+30VrpBdhCKk++xW5JtGL66uEProuK7r\n",
              "TtEVS9HDa3LrJREAeJ2+QvJIIizr0wJ/cbhqQD5VMMzTr4xoyqNdSWCbz+MUxzmaGd4GC1tCoXjc\n",
              "rppGHV96eK54vd1wyTJoJ86/qFAR63lmLjC1cDWYk43AawxcvRpw2ggPCtC0Nai6M23tjW7PusIa\n",
              "szvmTc0VQOP9YOBSkGOt5gvMiPw+mbvxRnrppzFFGeXgsAnHsiqtaQ+O+tPxJSVJqi3gCpZ4kpjn\n",
              "Mgg/zDitvr3nEm09JSvBVQRopRLrsPIpLmYf7p9sce+W3cRQNOk6Xq9IGnSqkrRtPyd+nCEShuEF\n",
              "t1P0GgvHgcm8q3+3hJCaGgr1nIvyXKhAAT33KFPlDgUu93ITtUfY66bUZYPe64IAAAMAHxx/8dDA\n",
              "ABQxAAADuUGaI2xDf/6nhAAAIa6zrnpMaFWJbCTSSzw61hyMIBgp+zn7TRcM0Zgxk5d1W0Geyw/Q\n",
              "7bJ5+MLoXjDjl6vrzXSlCS2bSL8PSnrbKNsi91OJWC+fQ4S550QfsWtmEQa2F4GhPOc21n7ic8yS\n",
              "yK20uOWCtMtgiUIvj82L8nbQCS+lKvbTMLqa9T+6eVEXat2oN9th56ufUoILNrJCyfTcv4lb20PK\n",
              "qSglyEX1nvmOSh6w/2cwV4Y9RZ03FzEJDjpVTL34lh9FmlD8/zohXGNFlUektsgLt8fw4EJ2VWQA\n",
              "ZkFT1bLqjyq2nGz0n60f6V8J/jRccEvZc8YfNd17S86ZT07CEAYrOcPuOlALJlC0h/0hFd9ObH6A\n",
              "S9DBXNLap5CDxGDwAQ4qIhxPf06YjVum8DlLuxXmFRakQKJYUoeHaA33++QTxbwKLqAuYT6Q62Oc\n",
              "EdcnHUw/jh9ZAk/zhIahqMUSrUViwjyWSkyyKpQBGEuvGJNp3yp6my6oac/Q4kjm9wNPaM/WY2H3\n",
              "LA2HXWJQ/vvoBDcpbJLFdOhBnNWVBJ+kp+cyy1y0SMdXwHDUW2mIjqGLj8zxbp7uj20JAy3KLUB2\n",
              "AH/hEe/f/pONxxJFdMzwccnQfxSMjDJwDC7VW5LRwlGBXIcgWDko3Py1cPB8s831K9uBw9v3KGdc\n",
              "CvBVE/X0x5VB079evrosfNb0ZaCQWmOi/SG5tdoGUq7BExCQ2JBWnlD9O8c1k4Kl8OwDlia9agxI\n",
              "UhXF+rYVd+GjiC6pNbmSchNnp1fJ/tuP+nkbg9rxywDFOg2pg2RY13EN2UH6y02g9yKU+7Bp8aX6\n",
              "gGzjjjG/pTsF6iPvcAmRo0yqelpPmeAEIDpeZcuInxAy8Lg2QqfWhe+R06TAG+6HyhiLLvikFMA1\n",
              "JapK3j1LwApocMvjVsIWk0NPQ2KTjBoYsbQFAo7hvWFswrp6+SFBLD5W+P0uw3uK1UI4kr6QACl5\n",
              "uQozrrqfh4avXxkeS40Ov1qopSdFwxpBn2G5fyvBnKgsMNqEskvQfCc88Y0lIXWZoRqMUX8DgAvB\n",
              "p/j9lQuML2B/Kis3xt3QpcZkcNvjSsiAPKeJJDC/16fx91u9dHk3S7xbznX1DeKvdCA79d/Glyov\n",
              "1SMY/IIhJEXyNp0LKgBaVDExY2ZQHJmmtMIO73pp+fvEPi1I9cPxuz2M85i1ssTeSWb3gN7CiFkG\n",
              "CIqivb1LgyyFF8yCSv2PD7USnUCCfmBxczwespvAIQykj1n+dLGDeoj8BRSQiR0kAAAB+0GeQXiF\n",
              "fwAAG6jf8zHEOXodLT0WFlG2FvC+X/RQDNzpuxZj503UxbxrpdXvcluGR9KWD/w7Bt8BrJnIbSYB\n",
              "A9mCMeISzbTdjDlxFvuj4ELe9DwCVmg79HXZAZ73sdJkogkqhRRoqY35VRHOpDOHyAU13jqEiIK6\n",
              "v7snguZedk1F1gIVY/qmO3sMVgcqe1I6e0HypH27ysu8gzyh4RLjHiMd32EFOnsVmH1t6QAsyw7U\n",
              "vMOzZRo5hCT0sG46upMoSakreD+rYCykPQMLCEBAUNsG88kJe3Ef4bMZNAPxnAEYYkEQHG4KGO0b\n",
              "v29CkFETePCjgQrvdc6SLU4arEMylX2jG0tD41tWNZVbJha+bSBSc1Kh3upIjWtDHAf8ff5TQAls\n",
              "vs4Zug4YXOqFel16SKGC41/ejIGwdpxTOnONAPK5iF0OchTexkAPMYY+VCtbtdkczh+OLCxeSMaM\n",
              "MZyYdnxcx60Z4uvgFhY1uJ9BXOq6luzbVSVk+ZZCZlD74zEPH6+PBx0G5CXlbteBdZmOxyzhnF0m\n",
              "0HlU+ZDDbxcB5f9bZbZzmgGbarlc55GtfteQMIw+hiyekg5oT+mW5X8kk121yjkc/zWd+VFvjMs1\n",
              "VbyYUI9Z/H/l8nMhEbS/2Xqac1Tngnh3gEMgqlXgM5iifqtOJmOesRSNuYurKwAAAXwBnmJqQr8A\n",
              "ABunQyf9GBK2AC3pqoWt8XeoyPMPirsL9wE4Y/KRPE3Q/VAiABfLTPho8c8JSTzIHAhmCq+r8k5j\n",
              "Xn+krjtxwRIu8PXiAHnDTQYIuGrfWjSeqie6imeEEBb/DmbelB2wQ9eQ1EWPv2ZhCTABV7t8oMC3\n",
              "y+Mi0LJYnLFsIyyNkgpK+06FJAElX08mcSVDTF9tzesYIdEyoAAvz3YD52PvyMO9w2dSoYdCy6C5\n",
              "UHNaHamx5Y3xqvK9pzeOcBQHTVB/alRBk5ohV2iQPsjYeBhnqkMnLTinffale5cysiOSc5cddwOt\n",
              "chHistAk7AbixWxt/L69Bz9CTLV1f6IML3bHiQzJLqn3Rlekbhn2RYKMWC95Hryv1Mo/vs8FvAnd\n",
              "RQ9hyK8b+Kxi9zSTXFIw+pI+cecjTouMEHXLtAXTb/5ID6nN7whxpXKsx6tWpe/04n0c3mRTGn3z\n",
              "qjMLirXp6w8Mn+qR8XNCW0N+446EWKCOZi+iULqAGwAAAmZBmmZJqEFomUwIZ//+nhAAAIN8WJg0\n",
              "NwlO5tYZpiKwJtE8xpV+0xVAAMrHyUnilhOp6+V+zkm1WRPuD61u+/oohYQUyu6wnnxh2p2QcGVO\n",
              "N0hstkcHl9KQCsz0sErUEU8Lj3nkClbsczQaHBnT5HLz0lNO1YT9IbUw/l7xnqWo5sE2rwyw5EIg\n",
              "lerarDuZtyiFb8dLssPmknWIaQ2xxQroSMaHhdoApNGvoZCcdkSTSkpsfKt7qUry24Grjj5FucaI\n",
              "EiLBN9oK2UFqBtc/iGQMMfejN9DBZqN2ufNUCrwRVhT1Ja46Pge6mWyC7lwabjp0pqCyq260d7Cu\n",
              "kJy/RlxQn8yeBHDGM+ZwVVYrZ9WgELyyd0BXNbtmNV4XZ/09hoJO0RfrWPBpRXq/mZPQplwmdJT1\n",
              "SKoG7AE3tTXgASxTFewJ1c/0eHy5OD3SsEF9wWs6YpzmWH5cShBUf9Sa0lXZL1p4YXs1JnlJXg0S\n",
              "mQYzJ8iKDm17aQUSstLQTZEK+4yJ0JdpRptkvZDmfghBqtSrbIJLuiQA23c2n/PwQd3GSAn+6ULF\n",
              "bNEd1f4reNaansP68DQcBFft5MGxxthJwPArtMHNtHxJAzFpVZeQO79A8uazWdNkHDOQ5P+b6yck\n",
              "wXo1aajpsXpZzdgOCcBKgDl00xHOTtMpeoympgFlIfH08sdny+q3Q9PuH4jWX8R8He/YcNXHoaNc\n",
              "/mbVfuc9C4ffG68gfbhAA6KQWZU0Jls3JyD0aKQji3gRg8tT9/HtMl20wNROqi6uMwhzXcb0rqF5\n",
              "gzqNKUGSnSq+MMFOIAztGzxuTvE9bwAAAaJBnoRFESwr/wAAG6H+66cgLKde8hnuwAC+Z8lZ0ifz\n",
              "RpQA/J6grNH6aNLYdLlMPDyIqRrr0jvom2xB54l9eVRJ9hWq1YDby+RoV8a8PSPp+ECjaj96xH8L\n",
              "knL3OkQ0d+3PYt1GG7yHY2z0pCbNOay0vC/5yu13fAtaYLF11iFE1uRJKDsYrTK4WHHyqNtkfQu3\n",
              "e6/19WaCtRnZxPQ0yBOA/gN6Trxx53P4KpBgKq2RyNzqzV1rU9FxkeXWB+JzL0+8+blwnZEqUSi/\n",
              "9fuhv6ATi9vkypTTkNUg+0p286avAGt/nJ1MyQpufrmEmvqv2B3Q8R1TsD1vWp+3HgcrZi0IxWsY\n",
              "SZ1G2f5ic6+I8axbIrObp2ZEHRq1kXA1ACbx1k/uuz0VFAsh8b5iGhBwWgNPrHjIhLfNqQoUp6/f\n",
              "9E4AGB6alJ9MrR4cqxdJn9P5oY0u/FyLQVIcpBVO1BFtxZg3M5Z7AysI4hsZtMuW4AOxnUZG2Hwu\n",
              "osuSnG97dEhD7z3E557cP9y2itYE8dRsEK7P2kgIF5lmDtSUnZOOZ5W4CsfBAAAB7wGepWpCvwAA\n",
              "G6IqRMYE0EShALb9ogXqCk9E71AlHltg7o7U7gTOpmfn2tVgB/l+22UL2dtYudZQkDGrSKVwMCTi\n",
              "A2m/+GLXdPa7bs52rEZ8nCQ167miWVkJTyX0PzI6MTqlBp1N/JpPigG4GnbtUXSFDGGVO63rZY7a\n",
              "uBvTODeVacXl/keeaumrzEwaXBZbsSueqqGMU93HlLi2Hp99i01bZKpHoIMDM5mQNp/Ho68zN4Qa\n",
              "Bk+UFA5rctUiDzYmpXSR+BDJ4ntlZLesO4PEG08AXwmWj3XZ6nfuq9tbiSk1M5gpVnWs6k+sqiPY\n",
              "iY4+j2v06r3Bb5Hzz09vp+a0qn0Zgl8qdzpsM5z7dgwzO4L+X20Mg/C3ahnj24io47zOE42WXnbf\n",
              "IjghpQPuzbg2eBjTXHXqYcsbuCviaH6hPxe6KlGdrlL4as6CScu5C/49jU8gr7ofWf6ni3l70uUt\n",
              "HuBXXF8OByY5R7XAsyWzmn4NZeCaVjhwLlq7jmUSPzy7zJ+ZyBbwEw5EZY+PlEgilEn54H4QEHyf\n",
              "ydxs2/ZgDE7sJHJKERdpowWm3Bhk3MwS7sWDl9JJmj1xEXEkxo7nDa9bJ0b2UucwMaKElMkFTBDz\n",
              "ZhERZAB+AcKsP55dioX8jxkLov4MXRT+NNLHffMZ3QAAAZpBmqlJqEFsmUwIV//+OEAAAftSMBv7\n",
              "1IWPYzRXwAXF8vqTnGsV9CfQjXu14JOU2YUZJU4sTH3z+kLC4dgthFLuC8N0vmuRwF8Y4O+6HLPH\n",
              "zaBNrX/2iheiE9ZlL5AxN8gzGYmEF4q95e3qQyyj4KPKQSM4aOXCmE5y/uoKqA1MTtbnQSGeSoZT\n",
              "SZIWKNKMhEpl6BVg+OOKM8NwtGtA+1IVN46KF+sj0goR26O0sG0BTsm1ASgklFVhmVrAVZqWlNne\n",
              "1idXyCvpSxlXXf7RO4qkOYyrn1m6FZewNyMAhS1ixeWNlUAvNdGAR0zCGzLQT9lbumn3lmQkSbE5\n",
              "fqswjgAsVUWT5WVGF9a1nPt2agNQp/jtUFvc39jTolmEaaAqE5lfg5l20O6wDwpoacwAU79+3f8N\n",
              "8lm9sox77fyT8UADgVqT9Q5/cOIN13pZCUl/+9o7WjQIBKQrvaTWli4tw257D15h2WPSM3J+pvqP\n",
              "9cL4VKMpO5iAs2fI/Kth9xRqU9aKxICBo0qZMyy6od9wC4L37FNzvgxRYHRIGQAAAcNBnsdFFSwr\n",
              "/wAAG6cqLs8ge0dABzRdHYmKqish19Mr8R69sato/TW+yC549VRm4pCR5XRbB0MBHbkWHMIMjgBA\n",
              "Af8+4XeyL65Alh6ntYQTyZCkPO8cm1BhAxCMqigQW1RR6MHgZPzJeNKeHeYPN+AZKz8AGrg0dIwv\n",
              "/dJTDn55tmmoK4FGVRKphqBC8l9sf3wajVYZfGHZaPRwdLVYnoMHO3PRvj0nXTBpthIaAXTSgCZL\n",
              "igYWCPPwW0sDlZ2GZ4ZK8sveUEvCYEM2FL7cpda2jgydg1qqbetWsBaPr9ilz0oLyCgUAl50sGZF\n",
              "oEWbRQ4j6wk4DgBhftZ3O8dnlbu0P738Hn1JWLp2xwhY/XNbhCzVAa/n7e0J1XEqiMgEqyBwe/ru\n",
              "vjMg8RdF5W6MZI9/K5ayjcXXu6AcPU4uKIkAjlXRGBHcb/P2EtrfqG3WqzXQVjTZjNWY/z3fo29z\n",
              "wFk3aQP2lBuW7ePT1gJkpefhQ7Qj1V3mULL2dVltVw6fzgE/EcdCYQQaX0JsGUjtycxQGf3GxpQU\n",
              "Us0MEsu/u3YToa4IQX9XxvShDT//kvAcmnQlenJyNC4bSA/3XR73AHBP9kmwAAACEgGe6GpCvwAA\n",
              "G6dE5cjbXwAOyLo7DQNaZ1y7h/3WC43QFzNH+TpVJ/w6z5HoMct/iAGN+NehUdMwMk79C3w4gi1C\n",
              "mJdtv9uAL03Zg9SvVeTd7idN+dwxNDmgAIQB8PR1AHMT5EyCnlqElZPCzim0BnfSTc22e5ME193z\n",
              "F7HAqjgfpf2SMSQ7sasheie6w5soc0Da+8bbHJ5YbAfcsDDf5m//B5bJSd2/cYZRe2MoRGjweEEk\n",
              "WEgwDaDwAawWpXl7GdjzKfSLKUNxNOQqXH7mjmg3grqSQkh2HnZjFeNUKTdWN4dtTPjUHTdYNU2R\n",
              "LM70JYmWVbkVqbhLdeY2sInENIogCz6JHM/xvxOuuDWMw/AZ8sed/LNOcQwuP83IilN1ANqHUT+M\n",
              "pi7C2VvKAFRSKECzKAHVvk7Z+E4KNIYej7yXHGgFieiMp29Go5Yfzt3x00XnYVYtmqitBme60yYc\n",
              "da2fek9yLH0laYxomeiLJ2takBmVFTa6K2XSsyTcANnm5PuMh8lc79CoKWg+PvhzdHGuZjZ98TLS\n",
              "Sf+Alhq3MHRJzRMEhUzqqjcwzY2ul6DnJBXEZfod08Cnreet9tiYY/l2e8+4gp2f6vSqwk259aXU\n",
              "52Fla9k8bMhPobYoNV3RXrv7Ig30R207w2huh2VZVav+nGEERgZNOy0QrlXb0nHDlyDyiRF5ANo8\n",
              "FrBlvmNOECzAAAADkm1vb3YAAABsbXZoZAAAAAAAAAAAAAAAAAAAA+gAAAGQAAEAAAEAAAAAAAAA\n",
              "AAAAAAABAAAAAAAAAAAAAAAAAAAAAQAAAAAAAAAAAAAAAAAAQAAAAAAAAAAAAAAAAAAAAAAAAAAA\n",
              "AAAAAAAAAAAAAAIAAAK8dHJhawAAAFx0a2hkAAAAAwAAAAAAAAAAAAAAAQAAAAAAAAGQAAAAAAAA\n",
              "AAAAAAAAAAAAAAABAAAAAAAAAAAAAAAAAAAAAQAAAAAAAAAAAAAAAAAAQAAAAAKAAAAB4AAAAAAA\n",
              "JGVkdHMAAAAcZWxzdAAAAAAAAAABAAABkAAABAAAAQAAAAACNG1kaWEAAAAgbWRoZAAAAAAAAAAA\n",
              "AAAAAAAAMgAAABQAVcQAAAAAAC1oZGxyAAAAAAAAAAB2aWRlAAAAAAAAAAAAAAAAVmlkZW9IYW5k\n",
              "bGVyAAAAAd9taW5mAAAAFHZtaGQAAAABAAAAAAAAAAAAAAAkZGluZgAAABxkcmVmAAAAAAAAAAEA\n",
              "AAAMdXJsIAAAAAEAAAGfc3RibAAAALdzdHNkAAAAAAAAAAEAAACnYXZjMQAAAAAAAAABAAAAAAAA\n",
              "AAAAAAAAAAAAAAKAAeAASAAAAEgAAAAAAAAAAQAAAAAAAAAAAAAAAAAAAAAAAAAAAAAAAAAAAAAA\n",
              "AAAAABj//wAAADVhdmNDAWQAHv/hABhnZAAerNlAoD2hAAADAAEAAAMAMg8WLZYBAAZo6+PLIsD9\n",
              "+PgAAAAAHHV1aWRraEDyXyRPxbo5pRvPAyPzAAAAAAAAABhzdHRzAAAAAAAAAAEAAAAKAAACAAAA\n",
              "ABRzdHNzAAAAAAAAAAEAAAABAAAASGN0dHMAAAAAAAAABwAAAAEAAAQAAAAAAQAACAAAAAACAAAC\n",
              "AAAAAAEAAAgAAAAAAgAAAgAAAAABAAAIAAAAAAIAAAIAAAAAHHN0c2MAAAAAAAAAAQAAAAEAAAAK\n",
              "AAAAAQAAADxzdHN6AAAAAAAAAAAAAAAKAAAJnwAAA70AAAH/AAABgAAAAmoAAAGmAAAB8wAAAZ4A\n",
              "AAHHAAACFgAAABRzdGNvAAAAAAAAAAEAAAAwAAAAYnVkdGEAAABabWV0YQAAAAAAAAAhaGRscgAA\n",
              "AAAAAAAAbWRpcmFwcGwAAAAAAAAAAAAAAAAtaWxzdAAAACWpdG9vAAAAHWRhdGEAAAABAAAAAExh\n",
              "dmY1OC43Ni4xMDA=\n",
              "\">\n",
              "  Your browser does not support the video tag.\n",
              "</video>"
            ]
          },
          "metadata": {},
          "execution_count": 8
        }
      ]
    },
    {
      "cell_type": "markdown",
      "source": [
        "## Latency Encoding"
      ],
      "metadata": {
        "id": "O28HZWWD7UWt"
      }
    },
    {
      "cell_type": "markdown",
      "source": [
        "Description via: https://snntorch.readthedocs.io/en/latest/index.html\n",
        "\n",
        "Temporal codes capture information about the precise firing time of neurons; a single spike carries much more meaning than in rate codes which rely on firing frequency. While this opens up more susceptibility to noise, it can also decrease the power consumed by the hardware running SNN algorithms by orders of magnitude.\n",
        "\n",
        "`spikegen.latency` is a function that allows each input to fire at most **once** during the full time sweep.\n",
        "Features closer to `1` will fire earlier and features closer to `0` will fire later. I.e., in our MNIST case, bright pixels will fire earlier and dark pixels will fire later."
      ],
      "metadata": {
        "id": "ggySp5Tc-WzG"
      }
    },
    {
      "cell_type": "code",
      "source": [
        "spike_data = spikegen.latency(images, num_steps=NUM_STEPS, tau=TAU, threshold=THRESHOLD_LATENCY)\n",
        "\n",
        "spike_data_sample2 = spike_data[:, 0, 0]\n",
        "fig, ax = plt.subplots()\n",
        "anim = splt.animator(spike_data_sample2, fig, ax)\n",
        "vid = HTML(anim.to_html5_video())\n",
        "plt.close(fig)\n",
        "vid"
      ],
      "metadata": {
        "colab": {
          "base_uri": "https://localhost:8080/",
          "height": 501
        },
        "id": "7OaH4wiXtARN",
        "outputId": "4ca8dbd9-e0be-4523-9f12-82e13989f2b6"
      },
      "execution_count": 9,
      "outputs": [
        {
          "output_type": "execute_result",
          "data": {
            "text/plain": [
              "<IPython.core.display.HTML object>"
            ],
            "text/html": [
              "<video width=\"640\" height=\"480\" controls autoplay loop>\n",
              "  <source type=\"video/mp4\" src=\"data:video/mp4;base64,AAAAIGZ0eXBNNFYgAAACAE00ViBpc29taXNvMmF2YzEAAAAIZnJlZQAADxBtZGF0AAACrgYF//+q\n",
              "3EXpvebZSLeWLNgg2SPu73gyNjQgLSBjb3JlIDE2MyByMzA2MCA1ZGI2YWE2IC0gSC4yNjQvTVBF\n",
              "Ry00IEFWQyBjb2RlYyAtIENvcHlsZWZ0IDIwMDMtMjAyMSAtIGh0dHA6Ly93d3cudmlkZW9sYW4u\n",
              "b3JnL3gyNjQuaHRtbCAtIG9wdGlvbnM6IGNhYmFjPTEgcmVmPTMgZGVibG9jaz0xOjA6MCBhbmFs\n",
              "eXNlPTB4MzoweDExMyBtZT1oZXggc3VibWU9NyBwc3k9MSBwc3lfcmQ9MS4wMDowLjAwIG1peGVk\n",
              "X3JlZj0xIG1lX3JhbmdlPTE2IGNocm9tYV9tZT0xIHRyZWxsaXM9MSA4eDhkY3Q9MSBjcW09MCBk\n",
              "ZWFkem9uZT0yMSwxMSBmYXN0X3Bza2lwPTEgY2hyb21hX3FwX29mZnNldD0tMiB0aHJlYWRzPTMg\n",
              "bG9va2FoZWFkX3RocmVhZHM9MSBzbGljZWRfdGhyZWFkcz0wIG5yPTAgZGVjaW1hdGU9MSBpbnRl\n",
              "cmxhY2VkPTAgYmx1cmF5X2NvbXBhdD0wIGNvbnN0cmFpbmVkX2ludHJhPTAgYmZyYW1lcz0zIGJf\n",
              "cHlyYW1pZD0yIGJfYWRhcHQ9MSBiX2JpYXM9MCBkaXJlY3Q9MSB3ZWlnaHRiPTEgb3Blbl9nb3A9\n",
              "MCB3ZWlnaHRwPTIga2V5aW50PTI1MCBrZXlpbnRfbWluPTI1IHNjZW5lY3V0PTQwIGludHJhX3Jl\n",
              "ZnJlc2g9MCByY19sb29rYWhlYWQ9NDAgcmM9Y3JmIG1idHJlZT0xIGNyZj0yMy4wIHFjb21wPTAu\n",
              "NjAgcXBtaW49MCBxcG1heD02OSBxcHN0ZXA9NCBpcF9yYXRpbz0xLjQwIGFxPTE6MS4wMACAAAAF\n",
              "T2WIhAA3//728P4FNjuY0JcRzeidMx+/Fbi6NDe9zgAAAwAAAwAAAwG5pYX/dnfziCAAAAMAdsAV\n",
              "r+/ghHykAQt8YrtlNsH74tDVSI7AGbS8/WOVXm2GFzcIAIRzxIQufIPAmJPJ1r9ZerHK0yeQSDJt\n",
              "yeCF8Y6QT1hvpyjF5VBBiK/1WDfJmyIc4ANlvGys7OtQoXylZIqblF0MDpGjP6qGO250gjOSpTuc\n",
              "yzQ4YSWcVzOiCiIp3vmHWaMNX99fdJtNMeNYBj8dUBfTh5pUGpYlVN0s2HSjszuTGilRSDWqp7Yn\n",
              "xgArHT4jHAWmrJVyh0zZYSY9RKKtUaGJfcs0gmELqePX6wTUNtTTpDaO9lSdrNMm8BsOboeTrMp6\n",
              "qk3QO/0g2RF2vtAYf28dujJBny8HgAIdLcr5eypQXKI8bDd6CiYC4Tdc/uSX1+Ti/8wAgGzTyoJq\n",
              "bzpATvBrAbQzBfW/CkJnkFSnmPV6l4XBtn5/zZ/JEyNe+4VCHul2Hgb/xf19wpA5OrGkD3+AzCH7\n",
              "dQUetU7tPP2f71YPnkiqxeDBkEWoT/Jn20iZyP+qEcKskxE4cKmym6eF+GYv+LosLQE4HrNsead+\n",
              "A9e5SNlQbTqY/3HvRQPwOwYkD9jjvm9GdmkRbH1yajfkI5C+AX+xNMb7Q7nD7HVRNtq7qyDTyQK/\n",
              "4sPrmrwlFqRSKs2aBdMgveSfjQrQ6JPO6GDi/s3e4oW0LCfVLXb5nJ+ZVExy79qDfFzchvFcIh4z\n",
              "vRM3gsg2nHRwzlvDhpcwYsrAuuhpfIUBEQ1f2a6TmukmHBzA6NCmIKmdUGJUW23XrO9WCyre2xbV\n",
              "ycFtfB5lx3nNtGbZq/Uc8NJ6wvGNkGB3Z9x8IGAKj4nLvv3UvGSZUUQuT+0vDBlwQtOMXolNk/n9\n",
              "w5XT8AubtiNJkVV8HCOOQR7zT+qk4yj4go18fHBXAyWJkW7lYoTyYqSNzHdeqXLlFeHtPtHVD7nL\n",
              "hokke2Qrhbxe486fhXU+GC7Pr8EDwGL7eYKOx2LfEGUaKvTn0LeT1t8AfNtAyO2246D0PFWVQ7da\n",
              "GAhckWwJhs8/eqroFNRD982lwOV1ydlwYWFn4cifNgeM7c3RIVaB6KHLLX42sl557D61y3Ggt8JX\n",
              "PPRg/unNG6H5JpQ0FmYyn75juHd+I5ihkFqC1BuxbXcLsOKM90nojD3KlkauQLExuFzKy8EP33aY\n",
              "oF32xjIVtjPpFFcC3a7aES4H13SLbrjhB+YMzi6kKNW+O8VnEohORdEcqYqc810tF1T5nCppGlcn\n",
              "ElI0OS7l2zA7/ToPOWbcw3EZvScnM8o9o9sIJCvnQ6X6sjS1/gr3mVWDEvBnpPmeDQ6UmMepr/4H\n",
              "K/AIpfgtDy8DPcgX1629UsqbknZYRQGIrYfk/Hz4dS7FPNZnoDqLvIOsjv3ZgG1jy07SqN+7xWFK\n",
              "zVZ7sXSnLwHrW3QjQhzzPEGwxHVr1ibSrlM4K7U9odbhdw09dGjAzxFlz2tLx0okN4P4dKfjgw86\n",
              "isVBBkFw3HAuzpkG5pQgxf2ifj4BVoyHrTTYO/LgAUmlUrFUQYL9UgU9PKmVXl83vb1CFq5B6WFK\n",
              "IYe0aCN4HqKwBJrqM613XPvaI8VMr4uCm0ViOqNfIyDZ0fTLwGHq/Ou7w99DPfWcKJoNP5zF6qAA\n",
              "CU6JLXyOA1hTxWIlM3PWmilWyxhg8lrwHbWiUIFxc418cF+FUZfm3IFA1c6yYZ9pbefpf/98OQ/W\n",
              "imP52TQEpDbJEWZz3usAEDZwPsiQTBxhcGS08rWzN23mLFvybAAAEdpJVqcUgAAcUQAAAEZBmiRs\n",
              "Qz/+nhAAAIN8WJg0ORFK11UMFbT85esAAAMAAAMAwOZzQAP/34xJRf8Q7vBSqBCCOjYx7eNAD3Z3\n",
              "+ke/8gEk7svgAAAAL0GeQniF/wAAFHYNJiWwlEWwxqabbU5jiOrVjD1VHTDErCEuLqLy2l1hZXLA\n",
              "9+Y9AAAANAGeYXRCvwAAG5/daCpPWcrGUBFoDWpzDifshfUOlBpKckVrZmNTgdDNjhaRIwE93Kq8\n",
              "9IAAAAAQAZ5jakK/AAADAAADAABHwQAABRJBmmZJqEFomUwU8M/+nhABFuPPgo49gEEfF4e9f/SW\n",
              "MJEbhHPkd3XX9+CDvVcdJ88GGzKM4SQJ4vweChhGiaxJ9uk4Wuqlqi1X/ObDE4H5YzkRlmqklMdT\n",
              "O+zt/LVstt0lQzeXKyYdiSPVAAADAAAJoXN7gg3KPEdIfnDIQPqUYDDWPLzlbGa5N0X1SyybR/+w\n",
              "oBfLZoL+ewqA3Meu71cCy1Yx+OQHfwth10QLeplm/6+CWStLv68H2uKVbyCyVB2UXudbFjzoA4Dl\n",
              "hfkbYM1L/8CTPWD83zn91N5k3sSyNQhmxLaoLA6yGo9cdPU7+oq1y56jWxKaavvC/FvLp+JGWXAj\n",
              "DjBqpBeOmYJO+U3Y7bvrWHwqeWQNpBzHAeZCuiOPtA6IkcUWKJG4m3WF5TSZOR0aQhosAB1h1PIQ\n",
              "k5+1/AqjEAKAaUqUMHKHcnONi7wNk1YHTWBYYaNp9xXOfYn6MH1G87PYW514/RhGi6zdDY1LuL+6\n",
              "UaYYDqncnf7HUHSZ45Aun4RXWHhSeARxvl8zwKTgpCrvxXP136VLZaevfTosgN8Kv20rQGptvz+k\n",
              "9JyD5LIY6uS4MdPP/8HYNgA2bDVP7cXGeLFELrRoO/U7BtHD4lvRh4pZBAqEFhKxZ2WUyEHXNJAn\n",
              "A+PRUrogSWy6A51SuT1QPw8hT1L2UIRVQeqd1lzbQJjkDENnDwJztICdWMec805ZNTLWaAk3UEii\n",
              "Fhq+0UtWQVfsJOWIDAxAedEn/t+zYFTbwgZ8RvCv5c4ajPAhkPJDrSxfTHk+VGlUHzO+XTetUUgU\n",
              "JTxaD+EoMNFtJ0jZXuu3qLouveDqakjR4vpN7uiIMr+7nT2PJjMs3mVmqhYoKgveBu6q1sP8JJnQ\n",
              "mLNfvwdDsOxsvFr7axovTwcWUp8cSp3RqnNold75sTUlRe+OyihuWwmy4nDLKalkHNvE6c2NAKi9\n",
              "UutOKB3dUtlT+zrKoSThZ2u96PRa+oEe0ru6hxqA1DM4m3dhYgk/PNSSS/Wdy6KCcs0OEli51c79\n",
              "N485meWcL/Ud/r9w2IZGFldgEk3oWjqPTRbqONWxkdhz3bVEbQqaulcHvazmzvDJ2mhv8rc2TJlo\n",
              "izOcbZEDI9dD//+NFnAgr51INYneLKhLGzwcEM0PQkIuPSly8dzDGjwZJ9j5D8rJM/sG8zL9W0ES\n",
              "1RmQmz0sIOrtASiJV/CwdPhkuKN2qVLhpPBgPSEyu1TKzTu61ixR2AUXVqgNKgB9L1eAg0igzqbS\n",
              "o1P9S+zfT43ox68BidiuaM7gHX5o1eOgLNtR+dT4WhwbaMerNMmEgANwzCAj+dmLD5G0wTYqUusv\n",
              "fcJFIDwnh/YLOH7p+7KHElQcEiegc7ZxbAuY3J7x58CiV8j2Y4SnxyFU5GoBqFGHJ2bBRws+YmmC\n",
              "45aR8aL0PwBqzjF2NYinkPYC0IpayYVO5EQhlEIQ7Y4z5junUklQc4iDYFdeOjlTimFn+OT0f9Hz\n",
              "mzrEmTXA3qi4G7PLlmNIBVRlGShImfR9f/MZZ8zqCOgroBevPSx+IdkedvUqbs7fdRt3u74Tjqch\n",
              "llLF6BEGkCrMM4NiOV/gnf56fIO1YokSFIZ33zDIVpg3R1pJvvvuSUUJSZl4au7BhQE4aF8z9HKT\n",
              "sznSLpFbolWPa7a5SK+OurxAhnF8+sRlST9NFH9RR8EA9RXJBs0A93bHtMIYLGEN+SYorov4USSV\n",
              "VYUJCq6fAa+Q0cAu4QAAADEBnoVqQr8AOgySogFYnXjp94AAAAMAjFTbVMt8nw3ftS2orhx6lT/s\n",
              "1u4i7ZiMpKthAAAAmkGaiUnhClJlMCFf/jhABDT63F85FdfCNEQAAAMAAXgAAAMAAzkwIkGiQiLx\n",
              "U07q343tUgAAAwDwJoAAAAMCLvyAF0WUCJVFhSL5AXJydWO9zrdcTiijec4yfDQawdIWW4Ss+HYt\n",
              "e0KnaBN6LYtBnKgediqnY2gWr/WUxYnaYv6Z69HabuKB5PfiALPVKH1eYCllhdqyIMfS9IEAAAA3\n",
              "QZ6nRTRMK/8AOgA61sTor1x4AAADAICe21TLfgGXDviykdwYg/2KeUTviY/Gh8Knnx+PX9IK+AAA\n",
              "ABIBnshqQr8AAAmuv6cboiAAAk4AAAOibW9vdgAAAGxtdmhkAAAAAAAAAAAAAAAAAAAD6AAAAZAA\n",
              "AQAAAQAAAAAAAAAAAAAAAAEAAAAAAAAAAAAAAAAAAAABAAAAAAAAAAAAAAAAAABAAAAAAAAAAAAA\n",
              "AAAAAAAAAAAAAAAAAAAAAAAAAAAAAgAAAsx0cmFrAAAAXHRraGQAAAADAAAAAAAAAAAAAAABAAAA\n",
              "AAAAAZAAAAAAAAAAAAAAAAAAAAAAAAEAAAAAAAAAAAAAAAAAAAABAAAAAAAAAAAAAAAAAABAAAAA\n",
              "AoAAAAHgAAAAAAAkZWR0cwAAABxlbHN0AAAAAAAAAAEAAAGQAAAEAAABAAAAAAJEbWRpYQAAACBt\n",
              "ZGhkAAAAAAAAAAAAAAAAAAAyAAAAFABVxAAAAAAALWhkbHIAAAAAAAAAAHZpZGUAAAAAAAAAAAAA\n",
              "AABWaWRlb0hhbmRsZXIAAAAB721pbmYAAAAUdm1oZAAAAAEAAAAAAAAAAAAAACRkaW5mAAAAHGRy\n",
              "ZWYAAAAAAAAAAQAAAAx1cmwgAAAAAQAAAa9zdGJsAAAAt3N0c2QAAAAAAAAAAQAAAKdhdmMxAAAA\n",
              "AAAAAAEAAAAAAAAAAAAAAAAAAAAAAoAB4ABIAAAASAAAAAAAAAABAAAAAAAAAAAAAAAAAAAAAAAA\n",
              "AAAAAAAAAAAAAAAAAAAAGP//AAAANWF2Y0MBZAAe/+EAGGdkAB6s2UCgPaEAAAMAAQAAAwAyDxYt\n",
              "lgEABmjr48siwP34+AAAAAAcdXVpZGtoQPJfJE/FujmlG88DI/MAAAAAAAAAGHN0dHMAAAAAAAAA\n",
              "AQAAAAoAAAIAAAAAFHN0c3MAAAAAAAAAAQAAAAEAAABYY3R0cwAAAAAAAAAJAAAAAQAABAAAAAAB\n",
              "AAAKAAAAAAEAAAQAAAAAAQAAAAAAAAABAAACAAAAAAEAAAYAAAAAAQAAAgAAAAABAAAIAAAAAAIA\n",
              "AAIAAAAAHHN0c2MAAAAAAAAAAQAAAAEAAAAKAAAAAQAAADxzdHN6AAAAAAAAAAAAAAAKAAAIBQAA\n",
              "AEoAAAAzAAAAOAAAABQAAAUWAAAANQAAAJ4AAAA7AAAAFgAAABRzdGNvAAAAAAAAAAEAAAAwAAAA\n",
              "YnVkdGEAAABabWV0YQAAAAAAAAAhaGRscgAAAAAAAAAAbWRpcmFwcGwAAAAAAAAAAAAAAAAtaWxz\n",
              "dAAAACWpdG9vAAAAHWRhdGEAAAABAAAAAExhdmY1OC43Ni4xMDA=\n",
              "\">\n",
              "  Your browser does not support the video tag.\n",
              "</video>"
            ]
          },
          "metadata": {},
          "execution_count": 9
        }
      ]
    },
    {
      "cell_type": "markdown",
      "source": [
        "## Delta Encoding"
      ],
      "metadata": {
        "id": "g6C_LkBa7W3N"
      }
    },
    {
      "cell_type": "markdown",
      "source": [
        "Description via: https://snntorch.readthedocs.io/en/latest/index.html\n",
        "\n",
        "Delta modulation is based on event-driven spiking. The `snntorch.delta` function accepts a time-series tensor as input. It takes the difference between each subsequent feature across all time steps. By default, if the difference is both *positive* and *greater than the threshold $V_{thr}$*, a spike is generated.\n",
        "\n",
        "In our case, to make the example suitable for the delta encoding we can use the raet encoding and then the delta encoding on the output to generate the time-series encoding."
      ],
      "metadata": {
        "id": "ykqHDjhM-a_N"
      }
    },
    {
      "cell_type": "code",
      "source": [
        "spike_data = spikegen.delta(spikegen.rate(images, num_steps=NUM_STEPS, gain=GAIN), threshold=THRESHOLD_DELTA, off_spike=True)\n",
        "\n",
        "spike_data_sample2 = spike_data[:, 0, 0]\n",
        "fig, ax = plt.subplots()\n",
        "anim = splt.animator(spike_data_sample2, fig, ax)\n",
        "vid = HTML(anim.to_html5_video())\n",
        "plt.close(fig)\n",
        "vid"
      ],
      "metadata": {
        "colab": {
          "base_uri": "https://localhost:8080/",
          "height": 501
        },
        "id": "sy9BuDbowKoo",
        "outputId": "8320b84b-3b2b-414b-cd03-2a96a5e6af87"
      },
      "execution_count": 10,
      "outputs": [
        {
          "output_type": "execute_result",
          "data": {
            "text/plain": [
              "<IPython.core.display.HTML object>"
            ],
            "text/html": [
              "<video width=\"640\" height=\"480\" controls autoplay loop>\n",
              "  <source type=\"video/mp4\" src=\"data:video/mp4;base64,AAAAIGZ0eXBNNFYgAAACAE00ViBpc29taXNvMmF2YzEAAAAIZnJlZQAALRttZGF0AAACrgYF//+q\n",
              "3EXpvebZSLeWLNgg2SPu73gyNjQgLSBjb3JlIDE2MyByMzA2MCA1ZGI2YWE2IC0gSC4yNjQvTVBF\n",
              "Ry00IEFWQyBjb2RlYyAtIENvcHlsZWZ0IDIwMDMtMjAyMSAtIGh0dHA6Ly93d3cudmlkZW9sYW4u\n",
              "b3JnL3gyNjQuaHRtbCAtIG9wdGlvbnM6IGNhYmFjPTEgcmVmPTMgZGVibG9jaz0xOjA6MCBhbmFs\n",
              "eXNlPTB4MzoweDExMyBtZT1oZXggc3VibWU9NyBwc3k9MSBwc3lfcmQ9MS4wMDowLjAwIG1peGVk\n",
              "X3JlZj0xIG1lX3JhbmdlPTE2IGNocm9tYV9tZT0xIHRyZWxsaXM9MSA4eDhkY3Q9MSBjcW09MCBk\n",
              "ZWFkem9uZT0yMSwxMSBmYXN0X3Bza2lwPTEgY2hyb21hX3FwX29mZnNldD0tMiB0aHJlYWRzPTMg\n",
              "bG9va2FoZWFkX3RocmVhZHM9MSBzbGljZWRfdGhyZWFkcz0wIG5yPTAgZGVjaW1hdGU9MSBpbnRl\n",
              "cmxhY2VkPTAgYmx1cmF5X2NvbXBhdD0wIGNvbnN0cmFpbmVkX2ludHJhPTAgYmZyYW1lcz0zIGJf\n",
              "cHlyYW1pZD0yIGJfYWRhcHQ9MSBiX2JpYXM9MCBkaXJlY3Q9MSB3ZWlnaHRiPTEgb3Blbl9nb3A9\n",
              "MCB3ZWlnaHRwPTIga2V5aW50PTI1MCBrZXlpbnRfbWluPTI1IHNjZW5lY3V0PTQwIGludHJhX3Jl\n",
              "ZnJlc2g9MCByY19sb29rYWhlYWQ9NDAgcmM9Y3JmIG1idHJlZT0xIGNyZj0yMy4wIHFjb21wPTAu\n",
              "NjAgcXBtaW49MCBxcG1heD02OSBxcHN0ZXA9NCBpcF9yYXRpbz0xLjQwIGFxPTE6MS4wMACAAAAH\n",
              "NGWIhAA3//728P4FNjuY0JcRzeidMx+/Fbi6NDe9zgAAAwAAAwAAAwG5pYX/dnfziCAAAAMAdsAV\n",
              "r+/ghHykAlW72vO4jR4wJxdio/XfFXBCi+J5+pN9goNjWEVdG0jEhC58g8CYk8nWvzTJzrbtjTY4\n",
              "7dShnblcXiWVzLr6coxd8Y7CqqpHZFAAQXmn2RTb3hFaC1oDE5fb6dD6Ax398Hoey2UGIq7uS8EI\n",
              "bbXi/AXEF9qRDYCoZh9YFfpEUjJPtjiWtJH3UC3Bw5S26snWd8jUmuglr/b5gmFsuxXheIaFSHXQ\n",
              "qejRlqhky2WXUSye9GjMwLXP3/xFe3R23aZELJ/9QlBcQTonAYtO8U1E28eki+51YRVmu2TcaWSn\n",
              "jaBs9WlBn61wxcTSA71xv2i4cstu9/R/EnE5rORUHSFvAwX1+D4ZnmHPqG6+QLfk45KtYhMcwAmO\n",
              "ObmD2YzA0jdovLm3mWhZtXKxheWM2MZNlEVveDg7p6Cyp379iStlG0gvcbuMTro0hjQpeyXLWPzC\n",
              "av5XauW6piMkI+ynsucA7EoYKQOF1mvWbv2AknRivL1VR7BIUdwl2aRMChb1tDIpkqRPwEIDNxTH\n",
              "R0BNYR7lZajWpu/0Gx8hyDWWYIc+45rGhYMT8ZzHTqOj8rFN3EPVOy7j3TVFqUsqjLYASHcdhXlw\n",
              "Xkslo3JFOtpfSOFX6juqy+9zcxKQ81t+Q08+08LGdNNjA/xYCvMQfYNpaQ6naPMYwZiiKtcZzczl\n",
              "EM8z9FzFTKpIndJt7OfR7Rxm/3KjU3HWAiijTTrbTsGNjGuJoRG4CtTeAKLA012RVmgResPw/RMw\n",
              "s9EsP5jc3Rv81oXfuUzMuP8HCt5vLv4XoFOoQeIQyf3Jt4cW3Gz9hjoqQ1sRaSy0w/U4OJF4LCad\n",
              "QC5ABueu4THkr8wXGkAGm7NecIl4KA6BjWa1GDf9/I+54j1nzgjW3kkGk3wtIneBhSl42Kl9WbiZ\n",
              "HE6Xbcc1Wufg70qTayHggT0TG59y49ZWfRyvLrsiayn1d8dvuvtnOQ/qgHFSE5Zl2Lla82I4iWV2\n",
              "fZeWs0ZOaJuIBaxhnObv7NTQzI4PGq0i1MK62JDuV+e6+Jz5PgMxmxxEh6a4Bz1kCcO9GgnN5+hm\n",
              "/ry/oDmoQaxC5H46t4GtWj10RosOGuuz2N0QeEktK6Rl0p+PZcz49DVm0JcKXwBIIt1aLtKcx0ja\n",
              "PsBsMfTdqiDK6rfxcg3inKQgnmamcZYIv/SeaKLyTzUSJajfZ4jXxvR1SySLZRtpAY5r0tuff+Ux\n",
              "RZ17Abe7BWNM8EBpf3d4LHR3Q7IVIKCV98tcRHOynMoHg5bj9uLjJMF2g4IlrpmbM7/wwnQg6U1P\n",
              "eD5t57XT2cj7Xy9TQLS4N+xjsyywzw3HeK698I8xPOeiJg+XwC7htwmg+QPZllH1Z679QX3Uukup\n",
              "tDPJqJyO+MqkSU7mzlwjf0vrk5eKXYw552LMrBAc1vYpRV4uNHI8x87tU6fkqv/PIH2gNwmvXUWc\n",
              "EwSqcr2gkd69EzyyDe5JE77g6IXonUYQf6iwbIh7Wu2K3x4hF3QLN65+fP3TFg51KquQe3SMqboU\n",
              "UyTCO4lUUpNHeu4z9WDUUO4tzaw4ELS3K0FgTlsSTxEs3L1gTzacalM/PCUrxAR3UKougmiAwzbr\n",
              "yKjXDqfK4LQXuBUTrs1/uaNorPVDIIxAT1i/7o2/de98M6gqfyvjv/nKgLFaScQzWLkauglS8k1m\n",
              "aWkj9n+NTfJUS0OWK8mlKoQf9bglKx/5jssIub+ugULjXjj4691bojZcCMGYydjOqKpgmVvp/YsY\n",
              "Ei/Er+UfR+5S96YiMPbmXGTtHtscmu5PCMeh0pwRyzfD6NflcNSj1MQ6qcBYcobwxCz991NtUXKF\n",
              "Sx1tm/r5mbLF856nmJtreZQ2/U8PVCexWgNFKAXWgwefx4oFN80CwN6yhP8fvyMMINeJcfXNK4T7\n",
              "LXXGTwxXCxizWuv/L/vStQrduEtedZKycmIq7aF41x2ZrmBpOGfZ1rQxq5BjbDeQOgXeuQS9yqwU\n",
              "ekgAQbFYZaR8GwOMBXAMhbP0iUkz+J6MGMh62DCuefIb3Z1W6wwGtWW0shwSNbYnhP4hPHCthYSt\n",
              "vmVrSyepvXVQTssN5dZ2PVO0nGrL9fJAG06n5iCUyrXquWLu/XxyJpP+QNUzdB6gh7ILLq1K+i8Q\n",
              "n4A8Ypy1CJTj+9YW/R4BBZfM8pB66bDemiqKF9jeWLu1+ljfAk6hWhlemdnRfRU040aS8r9uiEKA\n",
              "ZsYtv6try/h8WaNtgV7GYmsj86Yy0OiQn4il0+UKMdpzs6K+mJsQJBTUgnYeBODU6HsYfsiv/5FF\n",
              "GbLbFKPSSrIMCdUgEvRKw9SKWu17D//79TrZANIRBMh1sH5VCjE7bxprOkAKMj8WOMx4VDTju3hm\n",
              "sKQrHG+J6GEzwLygADPljikAADXhAAAFu0GaI2xDf/6nhAAAINyDt0Ev3AAllAZyhtN6nTrEpAmR\n",
              "9kV+yc9omsZgX/qbeWu4AKrTCzXF17Hfw2UWSus34WP7k09th5ldsvaILmCqYYwIp7egGFHODh76\n",
              "kbG9LbaEvRAEyjhsQQ6y/fxjgvaDhRX/8NFX2P7LovnnmcONFP1e5smYOKmWuECN3OjCn7SiG9Ec\n",
              "Kqy4vzzpjMarG7YJ/5FmLNo48I7nZUmWiQZDXlQopq+vhiYUwHWJoIbU/PYstkbmToJIbFGbqogJ\n",
              "cLpsPCWTVaDwqFGeQm8D/zkh8XvNYl22QOZ2S8CoMS1PvZYLFkMcu8LzRpu9yvCfW82SYjIIQMdn\n",
              "oNn1ra2ZKQQzM/iLYzdAm4L4X1wMND5La01CHe02crhEf2xMRjbZcYQRfKhrDxIJ08G3JyvO8Qkz\n",
              "F2CcNncBGSTt6wGq68eHTI2TmEbsWDl8W2d8gFIaYvR1W35s334HM44lYVd+cokf6Sft0XYW0ujd\n",
              "PiNjTcKYlsxHAZWZqoUeOVZBANP8rSudHBtLSXOgNMdkW3QFoJrzbqXvHbVOfdbm7voIntwX4SU7\n",
              "PJ3L6WVC0s2pkk7OGJ3zBfwtPg8ItrauKnFVduAelgkD4WILG23xPXSuZgtqwLMouzV7gCuGtxiH\n",
              "iLZ8OIesVySKabLyyCBEUBQzKi5GR3//jUJFRFVhlSVrR0WPj9dmjhYee/+93CNUBzR64slNnka+\n",
              "kyU1FYdWK37eqWxLYWMHsggtfCmhCWOh9dtgQ3gtuNwekZ23dy9WwHSapD+M/vp1OZfKiX0RVdtG\n",
              "xCeZ4W6Gf/tfZ/lrcDtD2fth+Skb4iA5yG/9RJa9piFl4PV+kILN2dTtOChHl14J5vE32xDG45MU\n",
              "0spB47Vt1CKnt8A7DTaV2wuvxwZ4nGje4tvaIZT1Q7E3Og/6abMDdRXViSLC77KRAY9pclLEbuHN\n",
              "jdUuHDRU0GAF8CcDm+oNEJsFoIi+T5GL4n++jpNcz6bDibPuwkDVGeOjPO0RMuj19QL007nnJktw\n",
              "vc5EAWj1T/9DV79udmlfFoHJ1H+d7ysPL1wLdW3TenWJ7RwrsgFGatCZZRuOLhMbe4+HRmFj5KOE\n",
              "9zkY0xWI75iKtWkvd/lAtCFFxBSSeVavaKXh9yNy1+5fXC6ETWhbzIu/5fevxwlvqZ2oOjgeia27\n",
              "g8rFl0jmI70o5PdtUN9jUElyEsDyn/TqAWsaotLKkB5+KIYvvsgelXRF5f+fRPblyeFnrRx9f6Wx\n",
              "w7UJp+2nKd6lP4WODtI3a6KsDorDxPCNwWj/AjX3xwfkpWscQhjEJ1+3oyQ8+eTdQnwYy7xsrUIi\n",
              "GNCJoKceiJCjnpUgnUyOcGDiqJttOWdC502bUEUDTrUroF3Tsmm5UY/KVKSJmR5+XmP+nFWuC11H\n",
              "2gclYWlgzFNzyW9p6ptOHLchY7hnHmNgqFyKQZl8Cow7W1VCnF+09PC1iTwkfg8ZkFSDudDZN46T\n",
              "IaAQ+Wt6mcSlDxyJTAy4H9do7cbVSzd9Nfz3twvzaFRPMf2m8pdxrbL7vjGTbFKpxhWXF0szXrLI\n",
              "jIEEReRxvuP6Hpye0ssb4IJ3w+XPwFCU17BQ0C3DKE7LiRV4bwtUiuvAL7qFL0OCR/ACEmLxkj45\n",
              "JL1q9XUzIuZSmGU4vMLgv0j7ZzNGSMmy/ltMLuuRi3P4rnGUdB5xtzMskK6uybKpsHwRhd4QXM+0\n",
              "G4b3vAjjatsQFbHAxabUwrLKTVRQEHvNrI2YL7AL7c5FNIINx5Qg5NM3+UtMly9aq5w2EB147caF\n",
              "UPA0OCjCQ3kfoqUA1bSKfShQoOg7VNEY2WmWOWlt96M7tZT0mLCrccDeFZC6Ek6Z3PdQQoZvfajm\n",
              "UReUM4NZUXkfFsORHYwpOScfPPXiHYG4rOYaBbzm5V700Yat+luY9QN9HI7Td38X1XK8sVi/gyXF\n",
              "z08k3Sc7Z8lBjgAABO5BnkF4hX8AABsB/qd3Iy6IFaAEKeYs9kYw4pt/FpPwWaIbDW7e2wSA9/SG\n",
              "f9dLC2KHoUoxR69Y0do7GS+3mgaoz+Dm44lZKd4/HqiLsQLvoFSsdePHTIbWvUHujLRm2Fd0wKT9\n",
              "xJdEnEzEMrcexvtlXHPKhDxSC6c7y52ThYngKePU4lSXVrpf5AOCxc++35f1JlLSojYDxe8rWMEa\n",
              "KtiN+sUPxjyWlmC5RP0lAhC0HYn7uP7pDZzdXU+OTBhjQABYPa35/o1jsDzUQex/XpdIjjD1PUun\n",
              "W0RaMx7eTp8H9xNhPXyLdLUsNR69i4rC9UfTGcRAGRJoeDpBjsR5cgN3rkd/HO8nHnu8e1Yh9dJR\n",
              "OrQKhxBcS8yqF58ErU/3kdI2pxjveY+ZCwvBrUykC2Ywdr7MDLdpPsCzorIMqShwxSoezeRkXkAg\n",
              "pnu8t3zIv737Dpj4z5I4JEk9NdNWZQlKoy9lI8Brd+R5UohEbZtB+vSaQnj+X/JJK+HO1sS6O/6o\n",
              "bThvxqfE409p5tXnJKFuEwSgG1bFfpJRdPIFbR4eOMVg24tFKYzcZ5LThebobei7x3Ll8NnDvFpT\n",
              "ciRFH3fvW/PuDX+t7jiKMFhsiFQY3VfbKijDFJo3aDGnm7BCbmk29W24GFyU3Q/OeEXkIRxZZaIm\n",
              "Iv2acMXQQWps0ECCJYh3LT3SRmZDgXef3HlDSFFYoQfjY0w7K/2hNI+LvP0LCatjxS7BMiTPnELx\n",
              "gd1Axe4LOd0704t0Wi/YmtT8H5x2bfgL9MFK25+GdRaIPKvIJ1Wt57drCRqjhxTiaN1umj7+X2g9\n",
              "3pgvIRdD7KXM6hLdrxmozf4vE6Fuc3/e+I/gq6iZYeaRO/ADy4GTBFT+1qBNhY7530WjKZ84PKkX\n",
              "rJbE63xeHrMt734Uv9g4imWZ8OWDri1Gl1E/piNOXXfWf5LkXBKu6/oXZjuCcSTvPvokytPs9vdg\n",
              "k9nyjp5ASCjmg+Ob+aPRzNYMv8Jn7NX3y2yHdt6hTN2xJ4UPwjXpUvJheY41x1ALIuBzGFz7T2O3\n",
              "aQNtiWWU8wsJu8JXWyq30hOCU6t4HaQdNSXhFwQtEvAGqHYxaW87IgBI/IQfrLWYa95Ios49e9CL\n",
              "mNpYu2m5XY3wsf/4ZZgayaNUtNLOBx8i49h3CF8dXM8P5rllCdP8sGaUyykktQM30Wk78CVXbROT\n",
              "0+zIf2XPvgBVVRbKd75otfV6/585cPl1TnaA30A1CAEdKMP+bmZfFo767WTUfpADC/jbospRXHas\n",
              "lU1CeDCuEl3mqm37kUT/UY2qiOR8aiikJ8hG8UDrx3ZNVeyBb5Yxb6msodeusLzRacS14HbcgNEy\n",
              "Q94dfhrNFWhHfvtjOtcyhJLUe86v16TqL5/rF/PJNOdvJLUH+TTfQteu7Uxf/mQwXqrHKEhoPW6+\n",
              "8GJgNg1V8sP0DWa4U6fmxg9BNld12hpDMd+awFXK8t8TgCQvE9DnfdhsLm6uMnXB2ME/AE2HHO8g\n",
              "SgfeD0zsriU8CICRVaVXyL8V0cqctj2qcVFf9ghJAyTJWvD9Doh/wWEI11rva5zx3ejKPDN1iSN0\n",
              "ytiRss+jmu//T2mvgzZuOrlRD8Ds9JHxXxTNQ3Lcr5ThYJfgXu3txFn/eRGqN7jHpzwD8tkmLzMb\n",
              "VDECL4BAFqRsVUnahhX79orlvWiPZwAAA60BnmJqQr8AABsLCnufYi4sMQATt5i2Jo2OfXvDxPJC\n",
              "LTVGptm2LraHDhA1xnKczFGiHbJ4pNrTWrckhCxLhtBWVaV/gT5gVZe31uTweZKBL4EbuIEnFrEK\n",
              "jCvTSNslbzENsaGCwFq9hdd5qQ3BjIAKtxaDU514j1GpxZawH23BFmo4Yx5xPVzuP3pMxzhGFEDK\n",
              "TUDMIUYglavHxiguSfVljABwMcKt8nduslsL1sH5db12olKeCjtYqrSg8EDrnteGdFXixf/7umCP\n",
              "x958o4GFvqAXkxJ17rwrS1U5SN81N7djpbG4Vmr94sTXZyo21ThXAIuEPl5cSeTkxT6bxZ0o/MbC\n",
              "xF9/zqVJGpLhRKlNGjtkr5acL+uYoO/APRQgXnH5yioQpqjUrg06izGAyeovCAhnPiBUkDXKg0sR\n",
              "h2G3GgpOABbjp7TTO1MfmSN7ZZ9xmhSFDGHGWeqxkKIkv1wepb7BM2arOXGjWFjAieJ4CXdTiV3+\n",
              "7Sk6OusO1zjJk45zp4WQCtccNun1ysXxw/8POhiISLl9MLIGUfO6XRIL2GmBIg/qgaqflqoC1YtF\n",
              "QTeNQ7oAitjR+5W5Om1kqsuyRH2/Ge2FL09iqg1p86Gtx3M6/6uRS5LUblupT9CNTRK3iWu7UVfg\n",
              "j2K4ELEptNgGXdB//cJDXAFLlJkv0npSYqBgCaUv5bcdrnBzIAaMzGa9EFBZiM2ybFUK99MFCODZ\n",
              "sr2KgtdDCOEUoNa+Sz6GRPdpnM0gfql0wPgkz+OgyRcdaL6ESU8u0bDP0zYrY7UWTpiYQ44Nunry\n",
              "UvHbCb8J6lKjVlutjr3bJM2o1QSlNsC8qBjayVNWzHljAp+jjyZ5ccKqIKlVYcArP4ScQAMWt5rp\n",
              "mgEcjK0LOEDIXcGXJkSGMomBIZjUQa/m6KC+YY65IraQ2I/YNofXJc0f5YURzF4Xm/0NlOptFPmX\n",
              "n1fb3Xjmf3Pw+NYPTFWcuaOpovHVzQK2UyiFHVhut8Rl9I06sR9KsJ/m4QA68eUntQiMtObFgNKW\n",
              "q8c9+l1/j0CiWbXs8Y60hbIbwvQW5RqZpcsyZ4XF9s6AH+TT6tKIZcXKAAR23mifedWjtAvDyXK0\n",
              "h/7RHGgZ3h8onh42LHkjDFppvxklzoV7F8WU68kjaHpaU/aRfdqksfL2aE6iUY7DOGIilp741dxP\n",
              "DxC9+1vwO59CBUYoHP/rAmORmxOCcYBAQK9MVFO1vVKOKLcwpuXtAensKNXk9kdwrXA5u/ZHrAAA\n",
              "BAdBmmZJqEFomUwIZ//+nhAAAHy1dqLEP8aQAWnXaqn8B76psZNebT23nKXX87DjVz3ySA6MEKs3\n",
              "kGsyAHVahtcRH0JwRZmppSgpv6o9TX+56HqyJFIWtq8vQrydkqEzUIuIrrYONf4Ov1QKDM94Mfmk\n",
              "6U57DCaNvEzzdCaS1PJ8a9urB7BejzXkPLbVyzS733sdU+vGBwGjFEkFCpuJXglM5aLtZ6hmdKC1\n",
              "e4MK64YXXqT0kON2+m7CYXnnjuRRagAqYzDNGX5+kktTed0LARpMIEYYlFEGqys8aMvoav++YTe1\n",
              "ekPIM/8MOempR0GWZb8Ig9LP3dl97skGvamLKfq1ufdCWlMA+paajxm78cqru0hi/AsY1slkASsf\n",
              "UG4J36MxySzN59+uR6PMYk46uj6MxcayB4gffcPbKYRuvHPnk3zUQsdW8+RKby/a7zpAaXOxkdGd\n",
              "YmmYszyVQqbk3hguQVrEtBV86Pf6LoeMUVjktQFagRNecT+itYAPg729qpkVzrpahFABic3KyZyy\n",
              "NjiYIersrcx3N/Wy3LVQ0C2Kptle2Bbpbwtx6WVVC8WtLUGi17yuZoiG8C4i8JnJiw3DfPDxz0vP\n",
              "dAY/OhtRd/dxqcxnpqMdvIvQZkvsB7Kw3BARqhgU6Sj6wbLYh3FVWUH0rFsoutHeSUvEzOEZT2YM\n",
              "a3DEC5yxiBtpAcpmlZMbI+iF1yHLgdn/8eoXA/0+VZEo6Elj8SKUcbqOBhaC+arpNlKPvDha8GMu\n",
              "q23o7XtF+10ZJWsTYEUXjK3C6CJ0pSIRHr5lhfyw3zNiHAnGaD1vkbZokSQIjbTN4TrHEWxEtgv5\n",
              "G+F7FGsU1c1DKANDBqiDdHMPTl99F31tQeFinH59rBu0ytyi7gIcq9kgT4K6T5Pxlwt1S3HtqjTx\n",
              "UBIdQh/jqZhhg5f2eJZJcFhEY3safRajsXA3Yw2LTBnkbXYrvHeCZHE/y7+NfwNpY/BZjq+qWblX\n",
              "1G2wrolEQ4F+m3T9vwX8711ebEog3rZrOCCBkpVa88OMqvYuRP10RSA7BPo4EjLeYuXDZbA7aKVE\n",
              "Oj6qwpS3Faz6ch0hIiRexzj6o//qJyNu6wFNVgqhjIMAmAPwD0uCFgwE0eXlmZtf1buagPokctAQ\n",
              "SQqWndShPkiL0JPwiTMkvtVnmrwdMrEmP/eaP5S8uT97+BDz3o6r+lg5B/TW3kwUaOEWHa1qE2+Y\n",
              "Fqk/P3lmNU/kfrYNbNV1gJO1JR+XdK81TYNlnuWc8KmdETyAANM1HYJ7eidEpgeYxdQV7pKtj5m3\n",
              "EZ68Sa7G4yV7STznyiA9Tixdz41pYrmwlmJ4fRq9QPysI6f272VhzcRpFcDIENnj2YmydgavCeST\n",
              "60xK+BhonQAAA2pBnoRFESwr/wAAG2HXwfkIsAJatFU+O/fbnNWRVOmarevzbBIEBdvSwe/4fRrg\n",
              "HQP+AWxmEabE1VP8Rul1kgr9KZxmR7TBnx3wkvqgriJ3w/kRnHYy3MQuKzag4oP3wy1U1qjbWcIi\n",
              "AKo23I8n+tzZIeP9InpzyqKUfkim/VnpvPypEiDkv+z4DMHQ6rOZX+KTRBhI8y/97e9DIUBGoy4e\n",
              "o8z/njiQSLAhMMwYzLIkT7r7KmmzsqusxLqPJ3BggiIyYtvSE4QcY3kmApHJ0JZiNPgeVUFU4of0\n",
              "d7N4ig5jnlpNgSu21x0zD3gkcNXBOS8JR7ppfo0dy1N4idGAdUGoPJY7pW3VKIN7cP1sDem2G/Ym\n",
              "uyoYnK6XOeW9PlfJiB69Be9aQ/qSKaSc5UrcOiIgJ6Ij+qETumGFVXyIxzDDQx5iRHoT4BkUhUxQ\n",
              "WiG4qr2qj0+sBZopFvwYc73xrX2PlZvzOiH/Ord6AA7sO9ANA0w9RMBp2YtWW0icM7pl2VGivNsn\n",
              "0UuQXtd1G4MPEh0vZEywgyfPwJNrJtz1fdXocuPX9CxjvbtWOQELy9b+HYjJENMao//40gx36ec/\n",
              "yWscGN0NLGJY80XeTNruRCjw5EvB3zBmh3It3xVt7CiZbQkceqxld2B1ToU7sQY4WQVVPKNo+J5y\n",
              "7lj3f0YY5OtKDWks3YqSQlpcO6NFTReMT4OKxzgx8MGbLmSxPgzZAMIH9gcRMpTh9SDr34PPPCQ+\n",
              "87A3d1P3pzUMyufOV3XLi1bf9nUvq/JUGYbeSqnlCeym5QI59qkbERopcsxv+JPn25QiibFoowXv\n",
              "vu9Hz1HjdC7up2sb7KTLYRXMVfFoJuCSKJCA+TeOMvf89fv8mcq1YyQ7+ALFpCMYN0K2QAhQyRfD\n",
              "qN5ZMyQfhoDAqV1LqiZLo0oG7pKzbPPn2kOLEV04OhpKLUrY1SdLz9fHlw234Ywob1jvhbZXfGJa\n",
              "pEfmQSmF4MMmb+bFKzfJ8s496mLa1oodpVIq6OHf3RzXKfn9JSBuQw1EOEFjMUTzu3dII4nf96bo\n",
              "PqdPVqz3QjWpN5VEJl6cmBPcRjaGS77DCN06fj05SLwhHKzsLBoGMGNl1II3r6TZadGsCeG9/8ym\n",
              "ZJmhD7HvpAt8bomHCcXA/GYISoXGH3dM7z6g/TNxAAADnAGepWpCvwAAG5HWvTWaAFs8xbHweY7R\n",
              "g/lCzCdGyobwh3KmpvLr7cP7+FcE7TxR9hg5Agkr1gUyDprBcGSgWTNnuyIN9Cn9ehm5gKJBzdAy\n",
              "ess4dLz//pQ9vHgHB5IbZfAogH0w/WskBSHgZvOmEhF8Ldi4MegWDddfN3wjIpvJLr/LX4T8YlRs\n",
              "0F2O0LIm1eltJaYQskwQXmePMN/k4+VRxjV4owlGG3gpjQlQHEHIDRJ7k4mQHlxj+jrur7nUbBpu\n",
              "YqIMQU5AKlttWCDiHjere3UHffxAY8Hsfqb1C88J6U/Off14mW6kfI3mgUQA8lamyETtOn86jd3z\n",
              "DOqDvGw0laksV11UkN0AseESKOS6SW1ajSb/YOfUSJERuzD9tN2hm7OV/pQMQKgioWWEllmDYVlE\n",
              "wHQriMNIhOgF/wdYdTaWAtwlIQfLWf/1BwbopyTWp/ivU6smsid80+N0xXhaB8DRFjLyPLsDaBDz\n",
              "3RR782EnKVa9wSE4oMb4g9T09Xi9COiVzj1QZ5HLwktZ9y8i+laRIsmy1PILezOi9MByQNFAsw3s\n",
              "34yR75Vplw6qM8407lwmjjCBEv/Q5ERweHls2KINMs8H0pNzkJL0Huc5rlCkYsuUk+sx+BYN6Rij\n",
              "U3mlc5x8EabayCV3YVov+aiGISE3ayZJ3/b72di7IUj4hv4ddY0JxfbGZ0nSGx/fi9arzMtgM4L4\n",
              "2RFSis7UIkW1+KN9gQYtokZmg2gDCilLimeIPmKfB6ZnIre71E1GMFfE2KiBel1HFtdiswtspIpO\n",
              "OuUO4g+aa4RYi5AYHkeYEiFSTjs6pqv18CKKnhmV12l16yvh/1qGBuIP4nXJkF+GDGhV2w9Gz/Ah\n",
              "d62mSYRcAWEanmA9i0DfNvvu3aXYID0s6gFunrvDUdcxMmHOdApuRKQx2dbFfY4x5VbZ3WsjoT87\n",
              "TkIv9HTO5o3a9zBlhHmlyT9vZYHHpGDw1KocQferMbm56X/5gHoL4+A+2DH+/RRHKU7VRgpgNBRz\n",
              "DQeX6zQ5Nqne1jpE8Iyh6cjpKQZTXWavnvl7Sl20QDEmjE+bXU0CaK86hg2l/vEv1zI7yJ1ltaMo\n",
              "Uo2hKJJ1AOQ+gvIZj/JWDgxrjAvnFVQ+FMXf2s2TN3I7kx+X4Q0N2KwrY0PJ94ITosv3jkE+2QIN\n",
              "SGiRF/Wl+zHW9/RSdPIn7JAKc5V9bViezpKxOI1EAgd9sJPL/I0/3JzkO6BQQQAAAxhBmqlJqEFs\n",
              "mUwIV//+OEAAAfs7QxmwEB3CywAG0F0kwf477i8QnBzm0B8dwT25HE7MZPQDGvDaeqgiHKP46VTM\n",
              "+sebq7Knx/h8QOOn0Bs30huc1RjXHTKCQaJIeJ9/HKlx1LTwNAJ8FiAFPozN+w33xyXQAf2c5EFz\n",
              "ZTyYPMag5h2BySURIceETvuWYFebZOeuDAmij/fn9kIi4U7PGMQyZbq5OEEjtewaUrpIvZVyHfmi\n",
              "/hgbB5kl4VIeBngMW5x8M3jb9eODm/rGZgaId/tl/osFzmkZv/T2tqNlPgxbZUO++KMpk69QOEPz\n",
              "DdYnss+2/dlRM1izbdFy2CTCh0+bj8DJOqDyskZj6slsp+3Is9pofzMVZRxy8DFwxj0jt7pbd9Dw\n",
              "LmSkdj/7WNHdonwmLm2hQENvZkxCgjHslvRMPxOY+WRnCPkHTJUCyPF0vxQnRUh+9Z3Q9FYMBlOQ\n",
              "1apbMV6m8V4OJbSzP4q9UJoUEFn8VDcwNdc73YlL8GNBpCmFoUjZqWdfHjV/nLb4ESsON2yrWAm7\n",
              "9iNQe8++3H6n7dd2DlXGICuZ4CjSpNhnMdo8rzYve1vJW7Os9MDa6e3SHUZU1FNX9n4LQ5sFvB//\n",
              "2y3x7vQcT+JpH7VTR2SPdaDvG4RbH/0goD7bufQfDZjIaxmu0qtE5cETw23eNVP9XjlBM8moEpy2\n",
              "NwxO/09DtbviC93zhGHwaV6bftGJSFmmeehoGeQt3T6I2HjyXZqq4RqrUkJ2QNx09qT49Pl7urbk\n",
              "tIduwVZ6fpe11vxcjNIjwfO1YF5uYsxj2tn/6f3m0cRtgTdLTNT0qgV1inAtKxEOcHUMmwYsGYg+\n",
              "IDmsyY/JBdM7ZIOak2YzUV9yO1R8aaCfYwofKP7+8MARnMU0LMBGL4FwZ+he/XSbKwoc/wwTu8ND\n",
              "AZOPgcd6GSekiOL7UGqvOOhEtlCHNPwtA6I0+/ytudi8rVzsBx06TFOXMr+HgG30azwpwxA8RXBR\n",
              "iVwf6wnfahLrKIxWU9s2yrLG38JDOjrPkkgTdsosDdghgJLeKKitMkIHTpEAAALeQZ7HRRUsK/8A\n",
              "ABtc7XxBphNq/qs1+9DJ+m4JfRUw3/TqRzV8dwr2MrU8rGwTMAfbrIEaBAAN/yRMf4gBoODGYFCg\n",
              "405x/YYeSQZS1lcD9tGu1fcqtks/yv0iW3yBxTVhVkLTXR6zk/6Wl97XTlRwk1n89hv5heIhtczh\n",
              "xk8dfeY1d4I+A+gxn2Yu9N87PtUNk2aW/vyXX3hVAIvgm+ijOwxtJKEi4w36QwkvE/NZcDTEfC+7\n",
              "3whI55f0XkVLEA5l/wx6+nQ3x/Ivs9Y1cotDcVa6v4QHiHm5Rr+7Mx4mfE6iO8zVj7w0WWs/EK1J\n",
              "QAbaZa7QWrBNsY/CB53YUjFDIKIMPqwaZzgY0kJyZKYrcLSys50miI7PSxRjsYgL1jeFftlCafzB\n",
              "uDanIHkGK9TsQLEDmDqqJdyvYxlEhCoEooAfQEKIV+hvF3YHjzM3KxgMSNthJ2/jcdaqoQjfXC69\n",
              "ADuS0MrdL482GRfR/rgg8JNzDF5T6NGluwVwIqmFWEy0Guri53HvCsXTwmWocGarqVOu4blc5uJa\n",
              "hAYpfNqHs9MPwkt7T1k8wLu0DuiD3aQvH8i7ywL/u9oSv/82PqzdJVTcXL8ztEKTcJznjCpF6eED\n",
              "X1fKDWZOBNK4gt76hG8izTb4Ic+shHM2KGSjZxSqjN42sJa2LMgrYiqpjMehj6ZlYllkzRfcdsPS\n",
              "kPpnu/uEHy5T1dEhFNXthtSOtjBFcjlt9NohYK8Xz8ja8UQjb9E1apsuUB/n87BwW9/pKKoHBeSH\n",
              "RwKZI8kpPGNUKGY1/JP0bqN0rqueDBz6b5N1ZEET+89+4pStGSRRCzOFzGXL4BgQx2p2nkVDyOVA\n",
              "Gs+T5FENJu4BZ7QrZWkpyit7kNxG1iRk8uT2Fc35oANuURn13T6122CU1Ux4zAdUH9uF1Qfobo18\n",
              "WilQqI7btM3piPzb4FO/Sz5RJB7vsRePdTTQl1NnUflnzIzMwIca/rAAAAOsAZ7oakK/AAAbp0Mp\n",
              "3Y4FPVh7l9XQAfgFe1szW0QCZnGtVQ30q7SYTbeeww/Nj1LTtlsvIk3kmfaN/MTiq05xVPeeID+4\n",
              "C1KIj4x2/J3G0fgH0PphQfDI0A1PY0YEOEcrrE0eWy4PPaIr9Qc9uQubzkJBOu5Zp4/XUsBn3LNp\n",
              "i4JILZXJzGle2gs06SN7DV3EYL02Y41sAbKJqKXqEOPI+oqcCql9KPZpd9NCSLXQrLqeuvCCwkWE\n",
              "Jvd1iT/RcINn6ZxMwf/HrlG/cu+6ohZ0bY7fHS4X57lunDbkiqSEd9Z7VzTr04Q2J2LFR+jUKdKh\n",
              "KrgQcYGZAD1HDHKSCb6M8RAzbqQZu671CqCvfP2JiTdvZpM2XeE1f6gLFqX5//lkFHlDBwGcr2g+\n",
              "OJlJ0GXxfXIWnrl8bw+l2QPpb96PtkbHEa16wxOIT/eUiITRlszkOLguNombEpdiC3PxlyYvmiYJ\n",
              "lKB7xLzM/OYDMNVwtf4cqcfGsczcICm8H8hIDFSfE3YxW5ttXkkCrnyAwmKR8h/CznXg1UF8Lib0\n",
              "RzWeRjtlcOYeGPFEKDq32dSix9xMQ/9C9bZ4amP+kF8QDn+/pHd4sMCKclWJkB4a+BTX3DuMLKhY\n",
              "MGm7GUzrnkeQq5C5Su/jheQNr6ulaVT3wRTsPBTQ6rOtc5HYq7q1BL9HUfsKME7UDn9AGlDmBmUW\n",
              "lLU/gw/jlV7SuZ7g01K9YVBrdZj4KzzeO4b/QWX4NOPUbYXHVrFat0Kd1gH77M3XxkW6DCk9K44r\n",
              "i02AQ9jrkjFXOHjLbMBUzta0SMRZ4z89JirREytJf+i8zi76pOAU39LRGxjNGDCjFJknXfnUbn9F\n",
              "OihCCVyJqlHYttxyBPxKbKNZKtwGFOMF0AjE480I2x7whnKASkApUSdvUpLKYm6GE9ciaI1pUosG\n",
              "ue8B5gSDqnnnv/KeohIHSpUWqUtmX3uJ2sLL2yGxbpAfKhCBaGoEdJzQS4oy/FNRNhajtS6D9MTk\n",
              "o007WROR1WSS/GgIjiPiXrHIj/DVvcwzHijAe2C97h5Yx+TJPPPgjG0GRbT8/2krE624xnQ98oXu\n",
              "oUOqhcgnG3jZgeEABomhNsVPvFCOfyYrzvawOwNgpMAI0KG4KxIW3iE+apdx2cv2cYUyxxJYZ9UG\n",
              "kVc+pyr3BLRe4y8PF77yIpQFbCPfLEpN4WQFfHqqs/LqnWxpd45sZVXM/DzcL63pilmLqJddcy8O\n",
              "0qIykv8qYSEurl28Ycg6YAAAA5Jtb292AAAAbG12aGQAAAAAAAAAAAAAAAAAAAPoAAABkAABAAAB\n",
              "AAAAAAAAAAAAAAAAAQAAAAAAAAAAAAAAAAAAAAEAAAAAAAAAAAAAAAAAAEAAAAAAAAAAAAAAAAAA\n",
              "AAAAAAAAAAAAAAAAAAAAAAACAAACvHRyYWsAAABcdGtoZAAAAAMAAAAAAAAAAAAAAAEAAAAAAAAB\n",
              "kAAAAAAAAAAAAAAAAAAAAAAAAQAAAAAAAAAAAAAAAAAAAAEAAAAAAAAAAAAAAAAAAEAAAAACgAAA\n",
              "AeAAAAAAACRlZHRzAAAAHGVsc3QAAAAAAAAAAQAAAZAAAAQAAAEAAAAAAjRtZGlhAAAAIG1kaGQA\n",
              "AAAAAAAAAAAAAAAAADIAAAAUAFXEAAAAAAAtaGRscgAAAAAAAAAAdmlkZQAAAAAAAAAAAAAAAFZp\n",
              "ZGVvSGFuZGxlcgAAAAHfbWluZgAAABR2bWhkAAAAAQAAAAAAAAAAAAAAJGRpbmYAAAAcZHJlZgAA\n",
              "AAAAAAABAAAADHVybCAAAAABAAABn3N0YmwAAAC3c3RzZAAAAAAAAAABAAAAp2F2YzEAAAAAAAAA\n",
              "AQAAAAAAAAAAAAAAAAAAAAACgAHgAEgAAABIAAAAAAAAAAEAAAAAAAAAAAAAAAAAAAAAAAAAAAAA\n",
              "AAAAAAAAAAAAAAAY//8AAAA1YXZjQwFkAB7/4QAYZ2QAHqzZQKA9oQAAAwABAAADADIPFi2WAQAG\n",
              "aOvjyyLA/fj4AAAAABx1dWlka2hA8l8kT8W6OaUbzwMj8wAAAAAAAAAYc3R0cwAAAAAAAAABAAAA\n",
              "CgAAAgAAAAAUc3RzcwAAAAAAAAABAAAAAQAAAEhjdHRzAAAAAAAAAAcAAAABAAAEAAAAAAEAAAgA\n",
              "AAAAAgAAAgAAAAABAAAIAAAAAAIAAAIAAAAAAQAACAAAAAACAAACAAAAABxzdHNjAAAAAAAAAAEA\n",
              "AAABAAAACgAAAAEAAAA8c3RzegAAAAAAAAAAAAAACgAACeoAAAW/AAAE8gAAA7EAAAQLAAADbgAA\n",
              "A6AAAAMcAAAC4gAAA7AAAAAUc3RjbwAAAAAAAAABAAAAMAAAAGJ1ZHRhAAAAWm1ldGEAAAAAAAAA\n",
              "IWhkbHIAAAAAAAAAAG1kaXJhcHBsAAAAAAAAAAAAAAAALWlsc3QAAAAlqXRvbwAAAB1kYXRhAAAA\n",
              "AQAAAABMYXZmNTguNzYuMTAw\n",
              "\">\n",
              "  Your browser does not support the video tag.\n",
              "</video>"
            ]
          },
          "metadata": {},
          "execution_count": 10
        }
      ]
    },
    {
      "cell_type": "markdown",
      "source": [
        "## Model"
      ],
      "metadata": {
        "id": "SAfPm8817Y1m"
      }
    },
    {
      "cell_type": "code",
      "source": [
        "class Neuromorphic_Net(nn.Module):\n",
        "    '''\n",
        "    A spiking neural network (SNN) model using leaky integrate-and-fire (LIF) neurons.\n",
        "\n",
        "    Parameters:\n",
        "    input_shape (tuple): Shape of the input data (batch_size, channels, height, width).\n",
        "    num_classes (int): Number of output classes for classification.\n",
        "\n",
        "    Attributes:\n",
        "    conv1 (nn.Conv2d): First convolutional layer.\n",
        "    lif1 (snn.Leaky): First LIF layer.\n",
        "    conv2 (nn.Conv2d): Second convolutional layer.\n",
        "    lif2 (snn.Leaky): Second LIF layer.\n",
        "    conv3 (nn.Conv2d): Third convolutional layer.\n",
        "    lif3 (snn.Leaky): Third LIF layer.\n",
        "    output (nn.Linear): Fully connected output layer.\n",
        "    lif4 (snn.Leaky): Fourth LIF layer.\n",
        "\n",
        "    Methods:\n",
        "    get_covnolution_output(): Computes the flattened output size after convolutional layers.\n",
        "    reset_states(): Resets the membrane potentials of LIF layers.\n",
        "    forward(x): Performs a forward pass through the network.\n",
        "\n",
        "    Returns:\n",
        "    torch.Tensor: Output spike activity of the final layer.\n",
        "    '''\n",
        "    def __init__(self, input_shape, num_classes):\n",
        "        super().__init__()\n",
        "        self.input_shape = input_shape\n",
        "        self.num_classes = num_classes\n",
        "        self.in_channels = input_shape[1]\n",
        "        self.conv1 = nn.Conv2d(self.in_channels, 4, 3)\n",
        "        self.lif1 = snn.Leaky(beta=BETA, spike_grad=SPIKE_GRAD)\n",
        "        self.conv2 = nn.Conv2d(4, 8, 3)\n",
        "        self.lif2 = snn.Leaky(beta=BETA, spike_grad=SPIKE_GRAD)\n",
        "        self.conv3 = nn.Conv2d(8, 16, 3)\n",
        "        self.lif3 = snn.Leaky(beta=BETA, spike_grad=SPIKE_GRAD)\n",
        "        self.output = nn.Linear(self.get_covnolution_output(), self.num_classes)\n",
        "        self.lif4 = snn.Leaky(beta=BETA, spike_grad=SPIKE_GRAD)\n",
        "\n",
        "    def get_covnolution_output(self):\n",
        "        dummy_input = torch.rand(*self.input_shape)\n",
        "        mem1 = self.lif1.init_leaky()\n",
        "        mem2 = self.lif2.init_leaky()\n",
        "        mem3 = self.lif3.init_leaky()\n",
        "        cur1 = F.max_pool2d(self.conv1(dummy_input), 2)\n",
        "        spk1, mem1 = self.lif1(cur1, mem1)\n",
        "        cur2 = F.max_pool2d(self.conv2(spk1), 2)\n",
        "        spk2, mem2 = self.lif2(cur2, mem2)\n",
        "        cur3 = F.max_pool2d(self.conv3(spk2), 2)\n",
        "        spk3, mem3 = self.lif3(cur3, mem3)\n",
        "        return spk3.view(BATCH_SIZE, -1).shape[-1]\n",
        "\n",
        "    def reset_states(self):\n",
        "        self.mem1 = self.lif1.init_leaky()\n",
        "        self.mem2 = self.lif2.init_leaky()\n",
        "        self.mem3 = self.lif3.init_leaky()\n",
        "        self.mem4 = self.lif4.init_leaky()\n",
        "\n",
        "    def forward(self, x):\n",
        "        cur1 = F.max_pool2d(self.conv1(x), 2)\n",
        "        spk1, self.mem1 = self.lif1(cur1, self.mem1)\n",
        "        cur2 = F.max_pool2d(self.conv2(spk1), 2)\n",
        "        spk2, self.mem2 = self.lif2(cur2, self.mem2)\n",
        "        cur3 = F.max_pool2d(self.conv3(spk2), 2)\n",
        "        spk3, self.mem3 = self.lif3(cur3, self.mem3)\n",
        "        output = self.output(spk3.view(spk3.shape[0], -1))\n",
        "        spk4, self.mem4 = self.lif4(output, self.mem4)\n",
        "        return spk4\n",
        "\n",
        "model = Neuromorphic_Net(images.shape, NUM_CLASSES)\n",
        "model.reset_states()\n",
        "print(model)\n",
        "print(model(torch.rand(64, *images[0].shape)).shape)\n",
        "print(model(torch.rand(16, *images[0].shape)).shape)\n",
        "\n",
        "num_parameters = 0\n",
        "for parameter in model.parameters():\n",
        "    num_parameters+=parameter.detach().numpy().size\n",
        "\n",
        "print(f\"Number of Parameters: {num_parameters}\")"
      ],
      "metadata": {
        "id": "eFB4ZV2xkQUF",
        "colab": {
          "base_uri": "https://localhost:8080/"
        },
        "outputId": "76c4d81a-25f1-4cad-e83f-9ebd75ceed15"
      },
      "execution_count": 11,
      "outputs": [
        {
          "output_type": "stream",
          "name": "stdout",
          "text": [
            "Neuromorphic_Net(\n",
            "  (conv1): Conv2d(1, 4, kernel_size=(3, 3), stride=(1, 1))\n",
            "  (lif1): Leaky()\n",
            "  (conv2): Conv2d(4, 8, kernel_size=(3, 3), stride=(1, 1))\n",
            "  (lif2): Leaky()\n",
            "  (conv3): Conv2d(8, 16, kernel_size=(3, 3), stride=(1, 1))\n",
            "  (lif3): Leaky()\n",
            "  (output): Linear(in_features=16, out_features=10, bias=True)\n",
            "  (lif4): Leaky()\n",
            ")\n",
            "torch.Size([64, 10])\n",
            "torch.Size([16, 10])\n",
            "Number of Parameters: 1674\n"
          ]
        }
      ]
    },
    {
      "cell_type": "code",
      "source": [
        "def encode_rate(input):\n",
        "    '''\n",
        "    Encodes input data into spike trains using rate coding.\n",
        "\n",
        "    Parameters:\n",
        "    input (torch.Tensor): Input tensor to be encoded.\n",
        "\n",
        "    Returns:\n",
        "    torch.Tensor: Rate-encoded spike train.\n",
        "    '''\n",
        "    return spikegen.rate(input, num_steps=NUM_STEPS, gain=GAIN)\n",
        "\n",
        "def encode_time(input):\n",
        "    '''\n",
        "    Encodes input data into spike trains using time-to-first-spike (latency) coding.\n",
        "\n",
        "    Parameters:\n",
        "    input (torch.Tensor): Input tensor to be encoded.\n",
        "\n",
        "    Returns:\n",
        "    torch.Tensor: Time-encoded spike train.\n",
        "    '''\n",
        "    return spikegen.latency(input, num_steps=NUM_STEPS, tau=TAU, threshold=THRESHOLD_LATENCY)\n",
        "\n",
        "def encode_delta(input):\n",
        "    '''\n",
        "    Encodes input data using delta modulation, based on changes in rate-coded spikes.\n",
        "\n",
        "    Parameters:\n",
        "    input (torch.Tensor): Input tensor to be encoded.\n",
        "\n",
        "    Returns:\n",
        "    torch.Tensor: Delta-encoded spike train.\n",
        "    '''\n",
        "    return spikegen.delta(spikegen.rate(input, num_steps=NUM_STEPS, gain=GAIN), threshold=THRESHOLD_DELTA, off_spike=True)\n",
        "\n",
        "def train(model, optimizer, criterion, dataset, encoding, accuracy_fn):\n",
        "    '''\n",
        "    Trains the Neuromorphic_Net model.\n",
        "\n",
        "    Parameters:\n",
        "    model (Neuromorphic_Net): The neural network model to be trained.\n",
        "    optimizer (torch.optim.Optimizer): Optimizer for training the model.\n",
        "    criterion (torch.nn.Module): Loss function used for training.\n",
        "    dataset (torch.utils.data.DataLoader): Training dataset loader.\n",
        "    encoding (function): Function for encoding input data into spike trains.\n",
        "    accuracy_fn (function): Function to compute model accuracy.\n",
        "\n",
        "    Returns:\n",
        "    Neuromorphic_Net: The trained model.\n",
        "    '''\n",
        "    model.train()\n",
        "    for epoch in range(EPOCHS):\n",
        "        total_loss = 0.0\n",
        "        total_accuracy = 0.0\n",
        "        for imgs, labels in dataset:\n",
        "            inputs_temporal = encoding(imgs)\n",
        "            optimizer.zero_grad()\n",
        "            outputs = []\n",
        "            model.reset_states()\n",
        "            for inputs in inputs_temporal:\n",
        "                outputs_step = model(inputs)\n",
        "                outputs.append(outputs_step)\n",
        "            outputs = torch.stack(outputs)\n",
        "            loss = criterion(outputs, labels)\n",
        "            loss.backward()\n",
        "            optimizer.step()\n",
        "            total_loss += loss.item()\n",
        "            total_accuracy += accuracy_fn(outputs, labels)\n",
        "        print(f\"Epoch {epoch}: Loss: {total_loss/len(dataset):.4f} Accuracy: {total_accuracy/len(dataset):.4f}\")\n",
        "    return model\n",
        "\n",
        "def test(model, criterion, dataset, encoding, accuracy_fn):\n",
        "    '''\n",
        "    Evaluates the Neuromorphic_Net model on a test dataset.\n",
        "\n",
        "    Parameters:\n",
        "    model (Neuromorphic_Net): The trained neural network model.\n",
        "    criterion (torch.nn.Module): Loss function used for evaluation.\n",
        "    dataset (torch.utils.data.DataLoader): Test dataset loader.\n",
        "    encoding (function): Function for encoding input data into spike trains.\n",
        "    accuracy_fn (function): Function to compute model accuracy.\n",
        "\n",
        "    Returns:\n",
        "    None\n",
        "    '''\n",
        "    model.eval()\n",
        "    total_loss = 0.0\n",
        "    total_accuracy = 0.0\n",
        "    for imgs, labels in dataset:\n",
        "        inputs_temporal = encoding(imgs)\n",
        "        outputs = []\n",
        "        model.reset_states()\n",
        "        for inputs in inputs_temporal:\n",
        "            with torch.no_grad():\n",
        "                outputs_step = model(inputs)\n",
        "            outputs.append(outputs_step)\n",
        "        outputs = torch.stack(outputs)\n",
        "        loss = criterion(outputs, labels)\n",
        "        total_loss += loss.item()\n",
        "        total_accuracy += accuracy_fn(outputs, labels)\n",
        "    print(f\"Test Loss: {total_loss/len(dataset):.4f} Test Accuracy: {total_accuracy/len(dataset):.4f}\")"
      ],
      "metadata": {
        "id": "d9vMjzfKu3OO"
      },
      "execution_count": 12,
      "outputs": []
    },
    {
      "cell_type": "markdown",
      "source": [
        "### Model - Rate"
      ],
      "metadata": {
        "id": "JZAwan5n7bXt"
      }
    },
    {
      "cell_type": "code",
      "source": [
        "model = Neuromorphic_Net(images.shape, NUM_CLASSES)\n",
        "optimizer = optim.Adam(model.parameters(), lr=1e-3)\n",
        "loss_fn = ce_count_loss(population_code=True, num_classes=NUM_CLASSES)\n",
        "model = train(model, optimizer, loss_fn, trainloader, encode_rate, accuracy_rate)\n",
        "test(model, loss_fn, testloader, encode_rate, accuracy_rate)\n",
        "\n",
        "torch.save(model.state_dict(), \"neuromorphic_rate_model.pth\")\n",
        "print(\"Model saved as neuromorphic_rate_model.pth\")"
      ],
      "metadata": {
        "id": "aVtyse6_RU5r",
        "colab": {
          "base_uri": "https://localhost:8080/"
        },
        "outputId": "4313de4c-9be0-4f8a-9e99-95d2a071f406"
      },
      "execution_count": 12,
      "outputs": [
        {
          "output_type": "stream",
          "name": "stdout",
          "text": [
            "Epoch 0: Loss: 1.4634 Accuracy: 0.4687\n",
            "Epoch 1: Loss: 0.7309 Accuracy: 0.7540\n",
            "Epoch 2: Loss: 0.5543 Accuracy: 0.8204\n",
            "Epoch 3: Loss: 0.4690 Accuracy: 0.8496\n",
            "Epoch 4: Loss: 0.4212 Accuracy: 0.8657\n",
            "Epoch 5: Loss: 0.3914 Accuracy: 0.8768\n",
            "Epoch 6: Loss: 0.3601 Accuracy: 0.8851\n",
            "Epoch 7: Loss: 0.3452 Accuracy: 0.8911\n",
            "Epoch 8: Loss: 0.3274 Accuracy: 0.8965\n",
            "Epoch 9: Loss: 0.3159 Accuracy: 0.9008\n",
            "Epoch 10: Loss: 0.3019 Accuracy: 0.9044\n",
            "Epoch 11: Loss: 0.2905 Accuracy: 0.9082\n",
            "Epoch 12: Loss: 0.2838 Accuracy: 0.9114\n",
            "Epoch 13: Loss: 0.2739 Accuracy: 0.9143\n",
            "Epoch 14: Loss: 0.2659 Accuracy: 0.9170\n",
            "Epoch 15: Loss: 0.2575 Accuracy: 0.9197\n",
            "Epoch 16: Loss: 0.2550 Accuracy: 0.9201\n",
            "Epoch 17: Loss: 0.2501 Accuracy: 0.9221\n",
            "Epoch 18: Loss: 0.2466 Accuracy: 0.9224\n",
            "Epoch 19: Loss: 0.2417 Accuracy: 0.9248\n",
            "Epoch 20: Loss: 0.2383 Accuracy: 0.9268\n",
            "Epoch 21: Loss: 0.2343 Accuracy: 0.9277\n",
            "Epoch 22: Loss: 0.2292 Accuracy: 0.9291\n",
            "Epoch 23: Loss: 0.2265 Accuracy: 0.9290\n",
            "Epoch 24: Loss: 0.2238 Accuracy: 0.9296\n",
            "Epoch 25: Loss: 0.2215 Accuracy: 0.9316\n",
            "Epoch 26: Loss: 0.2168 Accuracy: 0.9329\n",
            "Epoch 27: Loss: 0.2118 Accuracy: 0.9333\n",
            "Epoch 28: Loss: 0.2125 Accuracy: 0.9335\n",
            "Epoch 29: Loss: 0.2087 Accuracy: 0.9347\n",
            "Test Loss: 0.1868 Test Accuracy: 0.9420\n",
            "Model saved as neuromorphic_rate_model.pth\n"
          ]
        }
      ]
    },
    {
      "cell_type": "markdown",
      "source": [
        "### Model - Delta"
      ],
      "metadata": {
        "id": "Q0kPuFWg7g4E"
      }
    },
    {
      "cell_type": "code",
      "source": [
        "model = Neuromorphic_Net(images.shape, NUM_CLASSES)\n",
        "optimizer = optim.Adam(model.parameters(), lr=1e-3)\n",
        "loss_fn = ce_count_loss(population_code=True, num_classes=NUM_CLASSES)\n",
        "model = train(model, optimizer, loss_fn, trainloader, encode_delta, accuracy_rate)\n",
        "test(model, loss_fn, testloader, encode_delta, accuracy_rate)\n",
        "\n",
        "torch.save(model.state_dict(), \"neuromorphic_delta_model.pth\")\n",
        "print(\"Model saved as neuromorphic_delta_model.pth\")"
      ],
      "metadata": {
        "id": "d_qI-1UASgoG",
        "colab": {
          "base_uri": "https://localhost:8080/"
        },
        "outputId": "2026461d-7cd0-4d2a-891b-31500c0b02e8"
      },
      "execution_count": 13,
      "outputs": [
        {
          "output_type": "stream",
          "name": "stdout",
          "text": [
            "Epoch 0: Loss: 1.4367 Accuracy: 0.4773\n",
            "Epoch 1: Loss: 0.8208 Accuracy: 0.7162\n",
            "Epoch 2: Loss: 0.6608 Accuracy: 0.7821\n",
            "Epoch 3: Loss: 0.5463 Accuracy: 0.8266\n",
            "Epoch 4: Loss: 0.4707 Accuracy: 0.8510\n",
            "Epoch 5: Loss: 0.4354 Accuracy: 0.8608\n",
            "Epoch 6: Loss: 0.4009 Accuracy: 0.8734\n",
            "Epoch 7: Loss: 0.3817 Accuracy: 0.8786\n",
            "Epoch 8: Loss: 0.3648 Accuracy: 0.8827\n",
            "Epoch 9: Loss: 0.3482 Accuracy: 0.8885\n",
            "Epoch 10: Loss: 0.3263 Accuracy: 0.8966\n",
            "Epoch 11: Loss: 0.3126 Accuracy: 0.9007\n",
            "Epoch 12: Loss: 0.2980 Accuracy: 0.9056\n",
            "Epoch 13: Loss: 0.2917 Accuracy: 0.9078\n",
            "Epoch 14: Loss: 0.2813 Accuracy: 0.9115\n",
            "Epoch 15: Loss: 0.2700 Accuracy: 0.9142\n",
            "Epoch 16: Loss: 0.2618 Accuracy: 0.9184\n",
            "Epoch 17: Loss: 0.2572 Accuracy: 0.9190\n",
            "Epoch 18: Loss: 0.2508 Accuracy: 0.9206\n",
            "Epoch 19: Loss: 0.2499 Accuracy: 0.9206\n",
            "Epoch 20: Loss: 0.2450 Accuracy: 0.9224\n",
            "Epoch 21: Loss: 0.2390 Accuracy: 0.9246\n",
            "Epoch 22: Loss: 0.2356 Accuracy: 0.9257\n",
            "Epoch 23: Loss: 0.2349 Accuracy: 0.9268\n",
            "Epoch 24: Loss: 0.2319 Accuracy: 0.9268\n",
            "Epoch 25: Loss: 0.2295 Accuracy: 0.9277\n",
            "Epoch 26: Loss: 0.2240 Accuracy: 0.9289\n",
            "Epoch 27: Loss: 0.2230 Accuracy: 0.9299\n",
            "Epoch 28: Loss: 0.2202 Accuracy: 0.9311\n",
            "Epoch 29: Loss: 0.2186 Accuracy: 0.9302\n",
            "Test Loss: 0.2139 Test Accuracy: 0.9345\n",
            "Model saved as neuromorphic_delta_model.pth\n"
          ]
        }
      ]
    },
    {
      "cell_type": "markdown",
      "source": [
        "### Model - Latency"
      ],
      "metadata": {
        "id": "4jibb9_97iVs"
      }
    },
    {
      "cell_type": "code",
      "source": [
        "model = Neuromorphic_Net(images.shape, NUM_CLASSES)\n",
        "optimizer = optim.Adam(model.parameters(), lr=1e-3)\n",
        "loss_fn = ce_temporal_loss()\n",
        "model = train(model, optimizer, loss_fn, trainloader, encode_time, accuracy_temporal)\n",
        "test(model, loss_fn, testloader, encode_time, accuracy_temporal)\n",
        "\n",
        "torch.save(model.state_dict(), \"neuromorphic_temporal_model.pth\")\n",
        "print(\"Model saved as neuromorphic_temporal_model.pth\")"
      ],
      "metadata": {
        "id": "VMQ6o8MJShq6",
        "colab": {
          "base_uri": "https://localhost:8080/"
        },
        "outputId": "7cc578af-55a5-47ca-a39e-8889943511dd"
      },
      "execution_count": 13,
      "outputs": [
        {
          "output_type": "stream",
          "name": "stdout",
          "text": [
            "Epoch 0: Loss: 2.3026 Accuracy: 0.0987\n",
            "Epoch 1: Loss: 2.3017 Accuracy: 0.1001\n",
            "Epoch 2: Loss: 2.0758 Accuracy: 0.2160\n",
            "Epoch 3: Loss: 1.9200 Accuracy: 0.2722\n",
            "Epoch 4: Loss: 1.8906 Accuracy: 0.2815\n",
            "Epoch 5: Loss: 1.9493 Accuracy: 0.2551\n",
            "Epoch 6: Loss: 2.1283 Accuracy: 0.1942\n",
            "Epoch 7: Loss: 2.0177 Accuracy: 0.2515\n",
            "Epoch 8: Loss: 2.1449 Accuracy: 0.2168\n",
            "Epoch 9: Loss: 2.2548 Accuracy: 0.1611\n",
            "Epoch 10: Loss: 1.9626 Accuracy: 0.3303\n",
            "Epoch 11: Loss: 1.7979 Accuracy: 0.3712\n",
            "Epoch 12: Loss: 1.7614 Accuracy: 0.4002\n",
            "Epoch 13: Loss: 1.5629 Accuracy: 0.5012\n",
            "Epoch 14: Loss: 1.4515 Accuracy: 0.5244\n",
            "Epoch 15: Loss: 1.5337 Accuracy: 0.4942\n",
            "Epoch 16: Loss: 1.4935 Accuracy: 0.5332\n",
            "Epoch 17: Loss: 1.4383 Accuracy: 0.5591\n",
            "Epoch 18: Loss: 1.3750 Accuracy: 0.5846\n",
            "Epoch 19: Loss: 1.3320 Accuracy: 0.6047\n",
            "Epoch 20: Loss: 1.4077 Accuracy: 0.6026\n",
            "Epoch 21: Loss: 1.3161 Accuracy: 0.6212\n",
            "Epoch 22: Loss: 1.3548 Accuracy: 0.6088\n",
            "Epoch 23: Loss: 1.3194 Accuracy: 0.5974\n",
            "Epoch 24: Loss: 1.3007 Accuracy: 0.6106\n",
            "Epoch 25: Loss: 1.2964 Accuracy: 0.5985\n",
            "Epoch 26: Loss: 1.2840 Accuracy: 0.6159\n",
            "Epoch 27: Loss: 1.2770 Accuracy: 0.6319\n",
            "Epoch 28: Loss: 1.1907 Accuracy: 0.6796\n",
            "Epoch 29: Loss: 1.1164 Accuracy: 0.7119\n",
            "Test Loss: 1.0859 Test Accuracy: 0.7258\n",
            "Model saved as neuromorphic_temporal_model.pth\n"
          ]
        }
      ]
    },
    {
      "cell_type": "markdown",
      "source": [
        "For further study I recommend the [SNNTorch documentation](https://snntorch.readthedocs.io/en/latest/index.html)"
      ],
      "metadata": {
        "id": "JPUKD9qO7lps"
      }
    }
  ]
}